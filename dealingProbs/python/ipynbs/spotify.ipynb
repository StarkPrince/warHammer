{
 "cells": [
  {
   "cell_type": "code",
   "execution_count": 1,
   "metadata": {},
   "outputs": [],
   "source": [
    "import re\n",
    "import pandas as pd\n",
    "import requests\n",
    "import time"
   ]
  },
  {
   "cell_type": "code",
   "execution_count": 2,
   "metadata": {},
   "outputs": [],
   "source": [
    "file  = pd.read_csv('top50.csv' , encoding='ISO-8859-1')\n",
    "tracks = list(file[\"Track.Name\"])\n",
    "artists = list(file[\"Artist.Name\"])"
   ]
  },
  {
   "cell_type": "code",
   "execution_count": null,
   "metadata": {},
   "outputs": [
    {
     "name": "stdout",
     "output_type": "stream",
     "text": [
      "1\n",
      "1.3600196838378906\n"
     ]
    }
   ],
   "source": [
    "songs = []\n",
    "q = time.time()\n",
    "for track,artist in zip(tracks[:10],artists[:10]):\n",
    "    s = time.time()\n",
    "    url = \"https://www.youtube.com/results?search_query=\"+track+\"+\"+artist\n",
    "    page = requests.get(url).text\n",
    "    r = re.search(\"videoId.{14}\",page)\n",
    "    songs.append(\"https://www.youtube.com/watch?v=\"+str(r)[-13:-2])\n",
    "    print(songs[-1])\n",
    "    print(time.time()-s)\n",
    "print(time.time()-q)"
   ]
  },
  {
   "cell_type": "code",
   "execution_count": null,
   "metadata": {},
   "outputs": [],
   "source": [
    "time.time()-q"
   ]
  },
  {
   "cell_type": "code",
   "execution_count": null,
   "metadata": {},
   "outputs": [],
   "source": []
  }
 ],
 "metadata": {
  "kernelspec": {
   "display_name": "Python 3",
   "language": "python",
   "name": "python3"
  },
  "language_info": {
   "codemirror_mode": {
    "name": "ipython",
    "version": 3
   },
   "file_extension": ".py",
   "mimetype": "text/x-python",
   "name": "python",
   "nbconvert_exporter": "python",
   "pygments_lexer": "ipython3",
   "version": "3.9.0"
  }
 },
 "nbformat": 4,
 "nbformat_minor": 4
}
