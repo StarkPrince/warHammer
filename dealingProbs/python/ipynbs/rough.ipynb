{
 "cells": [
  {
   "cell_type": "code",
   "execution_count": 1,
   "metadata": {},
   "outputs": [],
   "source": [
    "import requests\n",
    "from bs4 import BeautifulSoup\n",
    "import time"
   ]
  },
  {
   "cell_type": "code",
   "execution_count": 3,
   "metadata": {},
   "outputs": [
    {
     "name": "stdout",
     "output_type": "stream",
     "text": [
      "66.93018412590027\n"
     ]
    }
   ],
   "source": [
    "a = time.time()\n",
    "html = requests.get(\"https://trakt.tv/users/starkprince/history/shows/added\")\n",
    "print(time.time()-a)"
   ]
  },
  {
   "cell_type": "code",
   "execution_count": 4,
   "metadata": {},
   "outputs": [],
   "source": [
    "soup = BeautifulSoup(html.text,\"html.parser\")"
   ]
  },
  {
   "cell_type": "code",
   "execution_count": 10,
   "metadata": {},
   "outputs": [
    {
     "name": "stdout",
     "output_type": "stream",
     "text": [
      "2020-12-23 \t Vikings\n",
      "2020-12-21 \t Attack on Titan\n",
      "2020-12-19 \t Breaking Bad\n",
      "2020-12-16 \t Sherlock\n",
      "2020-12-13 \t Peaky Blinders\n",
      "2020-12-07 \t The Mandalorian\n",
      "2020-12-07 \t A Simple Murder\n",
      "2020-12-02 \t Aashram\n",
      "2020-12-01 \t Lost\n",
      "2020-11-26 \t The Umbrella Academy\n",
      "2020-11-26 \t Bad Boy Billionaires: India\n",
      "2020-11-12 \t One-Punch Man\n",
      "2020-11-01 \t Chernobyl\n",
      "2020-10-24 \t Ben 10: Ultimate Alien\n",
      "2020-10-17 \t Bhaukaal\n",
      "2020-10-09 \t Marvel's Jessica Jones\n",
      "2020-10-09 \t Mirzapur\n",
      "2020-10-09 \t The Boys\n",
      "2020-09-30 \t Mr. Robot\n",
      "2020-09-11 \t Westworld\n",
      "2020-08-30 \t 13 Reasons Why\n",
      "2020-08-13 \t Dark\n",
      "2020-08-13 \t Money Heist\n",
      "2020-08-13 \t Lucifer\n",
      "2020-08-13 \t XXX: Uncensored\n",
      "2020-08-13 \t Ragini MMS Returns\n",
      "2020-08-13 \t Puncch Beat\n",
      "2020-08-13 \t Dev DD\n",
      "2020-08-11 \t Criminal Justice (IN)\n",
      "2020-08-07 \t Sacred Games\n",
      "2020-08-02 \t Apharan\n",
      "2020-08-02 \t Another Life\n",
      "2020-08-02 \t Ben 10: Omniverse\n",
      "2020-08-02 \t TVF Pitchers\n",
      "2020-08-02 \t Tom and Jerry\n",
      "2020-08-02 \t Jodha Akbar\n",
      "2020-08-02 \t Mahabharat\n",
      "2020-07-29 \t Ramayan\n",
      "2020-07-20 \t Ben 10: Alien Force\n",
      "2020-07-20 \t The Walking Dead\n",
      "2020-07-20 \t Bard of Blood\n",
      "2020-07-20 \t Special OPS\n",
      "2020-07-20 \t Breathe\n",
      "2020-07-20 \t The Witcher\n",
      "2020-07-20 \t Cubicles\n",
      "2020-07-20 \t Tom Clancy's Jack Ryan\n",
      "2020-07-20 \t Gullak\n",
      "2020-07-20 \t Kota Factory\n",
      "2020-07-20 \t Stranger Things\n",
      "2020-07-20 \t Narcos\n",
      "1970-01-01 \t The Flash\n",
      "1970-01-01 \t Game of Thrones\n"
     ]
    }
   ],
   "source": [
    "for i,j in zip(soup('h3')[3:],soup('h4')[3:]):\n",
    "    print(j.text[:10],\"\\t\",i.text)"
   ]
  },
  {
   "cell_type": "code",
   "execution_count": 11,
   "metadata": {},
   "outputs": [
    {
     "name": "stdout",
     "output_type": "stream",
     "text": [
      "66.00895738601685\n"
     ]
    }
   ],
   "source": [
    "a = time.time()\n",
    "html = requests.get(\"https://trakt.tv/users/starkprince/history/movies/added\")\n",
    "print(time.time()-a)"
   ]
  },
  {
   "cell_type": "code",
   "execution_count": 15,
   "metadata": {},
   "outputs": [],
   "source": [
    "soup = BeautifulSoup(html.text,\"html.parser\")"
   ]
  },
  {
   "cell_type": "code",
   "execution_count": 18,
   "metadata": {},
   "outputs": [
    {
     "name": "stdout",
     "output_type": "stream",
     "text": [
      "0 followers\n",
      "Patna, Bihar\n",
      "\n",
      "Ip Man 3\n",
      "Batman: The Dark Knight Returns, Part 1\n",
      "Batman: The Dark Knight Returns, Part 1\n",
      "Final Destination 5\n",
      "Wrath of the Titans\n",
      "Blade II\n",
      "The Twilight Saga: New Moon\n",
      "Riddick\n",
      "Mission: Impossible III\n",
      "Kung Fu Panda 2\n",
      "First They Killed My Father\n",
      "The Unbroken\n",
      "Battle: Los Angeles\n",
      "Superman III\n",
      "Brightburn\n",
      "The Karate Kid\n",
      "The Godfather: Part III\n",
      "Rambo: Last Blood\n",
      "The Chronicles of Riddick\n",
      "Life of Pi\n",
      "Abraham Lincoln: Vampire Hunter\n",
      "Robin Hood\n",
      "John Carter\n",
      "Top Gun\n",
      "Hellboy\n",
      "The Girl with the Dragon Tattoo\n",
      "The Bourne Supremacy\n",
      "American Beauty\n",
      "Constantine\n",
      "Spider-Man 3\n",
      "Attack on Titan: Chronicle\n",
      "Lara Croft: Tomb Raider - The Cradle of Life\n",
      "The Girl Next Door\n",
      "Underwater\n",
      "Robin Hood\n",
      "The Old Guard\n",
      "The Town\n",
      "Goosebumps\n",
      "Insidious\n",
      "The 40 Year Old Virgin\n",
      "Hitman: Agent 47\n",
      "Home\n",
      "Skyscraper\n",
      "Bruce Almighty\n",
      "Baywatch\n",
      "Enola Holmes\n",
      "Night at the Museum: Battle of the Smithsonian\n",
      "Percy Jackson: Sea of Monsters\n",
      "Angel Has Fallen\n",
      "Madagascar: Escape 2 Africa\n",
      "King Kong\n",
      "Percy Jackson & the Olympians: The Lightning Thief\n",
      "Taken 3\n",
      "The Dictator\n",
      "Shrek the Third\n",
      "The Bourne Legacy\n",
      "Blade\n",
      "Quantum of Solace\n",
      "Zodiac\n",
      "Taken\n"
     ]
    }
   ],
   "source": [
    "for i in soup('h3'):\n",
    "    print(i.text)"
   ]
  },
  {
   "cell_type": "code",
   "execution_count": null,
   "metadata": {},
   "outputs": [],
   "source": []
  }
 ],
 "metadata": {
  "kernelspec": {
   "display_name": "Python 3",
   "language": "python",
   "name": "python3"
  },
  "language_info": {
   "codemirror_mode": {
    "name": "ipython",
    "version": 3
   },
   "file_extension": ".py",
   "mimetype": "text/x-python",
   "name": "python",
   "nbconvert_exporter": "python",
   "pygments_lexer": "ipython3",
   "version": "3.9.0"
  }
 },
 "nbformat": 4,
 "nbformat_minor": 4
}
