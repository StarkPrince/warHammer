{
 "cells": [
  {
   "cell_type": "code",
   "execution_count": 1,
   "metadata": {
    "scrolled": true
   },
   "outputs": [
    {
     "data": {
      "text/html": [
       "<div>\n",
       "<style scoped>\n",
       "    .dataframe tbody tr th:only-of-type {\n",
       "        vertical-align: middle;\n",
       "    }\n",
       "\n",
       "    .dataframe tbody tr th {\n",
       "        vertical-align: top;\n",
       "    }\n",
       "\n",
       "    .dataframe thead th {\n",
       "        text-align: right;\n",
       "    }\n",
       "</style>\n",
       "<table border=\"1\" class=\"dataframe\">\n",
       "  <thead>\n",
       "    <tr style=\"text-align: right;\">\n",
       "      <th></th>\n",
       "      <th>Open</th>\n",
       "      <th>High</th>\n",
       "      <th>Low</th>\n",
       "      <th>Close</th>\n",
       "      <th>Adj Close</th>\n",
       "      <th>Volume</th>\n",
       "    </tr>\n",
       "    <tr>\n",
       "      <th>Date</th>\n",
       "      <th></th>\n",
       "      <th></th>\n",
       "      <th></th>\n",
       "      <th></th>\n",
       "      <th></th>\n",
       "      <th></th>\n",
       "    </tr>\n",
       "  </thead>\n",
       "  <tbody>\n",
       "    <tr>\n",
       "      <th>2018-02-26</th>\n",
       "      <td>176.350006</td>\n",
       "      <td>180.619995</td>\n",
       "      <td>172.449997</td>\n",
       "      <td>176.210007</td>\n",
       "      <td>176.210007</td>\n",
       "      <td>202128400</td>\n",
       "    </tr>\n",
       "    <tr>\n",
       "      <th>2018-03-05</th>\n",
       "      <td>175.210007</td>\n",
       "      <td>180.000000</td>\n",
       "      <td>174.270004</td>\n",
       "      <td>179.979996</td>\n",
       "      <td>179.979996</td>\n",
       "      <td>139852700</td>\n",
       "    </tr>\n",
       "    <tr>\n",
       "      <th>2018-03-12</th>\n",
       "      <td>180.289993</td>\n",
       "      <td>183.500000</td>\n",
       "      <td>177.619995</td>\n",
       "      <td>178.020004</td>\n",
       "      <td>178.020004</td>\n",
       "      <td>155417500</td>\n",
       "    </tr>\n",
       "    <tr>\n",
       "      <th>2018-03-19</th>\n",
       "      <td>177.320007</td>\n",
       "      <td>177.470001</td>\n",
       "      <td>164.940002</td>\n",
       "      <td>164.940002</td>\n",
       "      <td>164.940002</td>\n",
       "      <td>172670700</td>\n",
       "    </tr>\n",
       "    <tr>\n",
       "      <th>2018-03-26</th>\n",
       "      <td>168.070007</td>\n",
       "      <td>175.149994</td>\n",
       "      <td>165.190002</td>\n",
       "      <td>167.779999</td>\n",
       "      <td>167.779999</td>\n",
       "      <td>157898400</td>\n",
       "    </tr>\n",
       "  </tbody>\n",
       "</table>\n",
       "</div>"
      ],
      "text/plain": [
       "                  Open        High         Low       Close   Adj Close  \\\n",
       "Date                                                                     \n",
       "2018-02-26  176.350006  180.619995  172.449997  176.210007  176.210007   \n",
       "2018-03-05  175.210007  180.000000  174.270004  179.979996  179.979996   \n",
       "2018-03-12  180.289993  183.500000  177.619995  178.020004  178.020004   \n",
       "2018-03-19  177.320007  177.470001  164.940002  164.940002  164.940002   \n",
       "2018-03-26  168.070007  175.149994  165.190002  167.779999  167.779999   \n",
       "\n",
       "               Volume  \n",
       "Date                   \n",
       "2018-02-26  202128400  \n",
       "2018-03-05  139852700  \n",
       "2018-03-12  155417500  \n",
       "2018-03-19  172670700  \n",
       "2018-03-26  157898400  "
      ]
     },
     "execution_count": 1,
     "metadata": {},
     "output_type": "execute_result"
    }
   ],
   "source": [
    "import pandas as pd\n",
    "import matplotlib.pyplot as plt\n",
    "df = pd.read_csv(\"aapl.csv\",parse_dates=[\"Date\"],  index_col=\"Date\")\n",
    "df.tail(5)"
   ]
  },
  {
   "cell_type": "code",
   "execution_count": 2,
   "metadata": {},
   "outputs": [
    {
     "data": {
      "text/plain": [
       "DatetimeIndex(['2014-09-29', '2014-10-06', '2014-10-13', '2014-10-20',\n",
       "               '2014-10-27', '2014-11-03', '2014-11-10', '2014-11-17',\n",
       "               '2014-11-24', '2014-12-01',\n",
       "               ...\n",
       "               '2018-01-22', '2018-01-29', '2018-02-05', '2018-02-12',\n",
       "               '2018-02-19', '2018-02-26', '2018-03-05', '2018-03-12',\n",
       "               '2018-03-19', '2018-03-26'],\n",
       "              dtype='datetime64[ns]', name='Date', length=183, freq=None)"
      ]
     },
     "execution_count": 2,
     "metadata": {},
     "output_type": "execute_result"
    }
   ],
   "source": [
    "df.index"
   ]
  },
  {
   "cell_type": "code",
   "execution_count": 3,
   "metadata": {},
   "outputs": [
    {
     "data": {
      "text/plain": [
       "127.1317485409836"
      ]
     },
     "execution_count": 3,
     "metadata": {},
     "output_type": "execute_result"
    }
   ],
   "source": [
    "df.Close.mean()"
   ]
  },
  {
   "cell_type": "code",
   "execution_count": 4,
   "metadata": {},
   "outputs": [
    {
     "data": {
      "text/plain": [
       "<AxesSubplot:xlabel='Date'>"
      ]
     },
     "execution_count": 4,
     "metadata": {},
     "output_type": "execute_result"
    },
    {
     "data": {
      "image/png": "[encoded data removed]",
      "text/plain": [
       "<Figure size 432x288 with 1 Axes>"
      ]
     },
     "metadata": {
      "needs_background": "light"
     },
     "output_type": "display_data"
    }
   ],
   "source": [
    "%matplotlib inline\n",
    "df.Close.resample('W').mean().plot()"
   ]
  },
  {
   "cell_type": "code",
   "execution_count": 5,
   "metadata": {},
   "outputs": [
    {
     "data": {
      "text/plain": [
       "<AxesSubplot:xlabel='Date'>"
      ]
     },
     "execution_count": 5,
     "metadata": {},
     "output_type": "execute_result"
    },
    {
     "data": {
      "image/png": "[encoded data removed]",
      "text/plain": [
       "<Figure size 432x288 with 1 Axes>"
      ]
     },
     "metadata": {
      "needs_background": "light"
     },
     "output_type": "display_data"
    }
   ],
   "source": [
    "%matplotlib inline\n",
    "df.Close.plot(kind=\"bar\")"
   ]
  },
  {
   "cell_type": "code",
   "execution_count": 6,
   "metadata": {},
   "outputs": [
    {
     "data": {
      "text/plain": [
       "<AxesSubplot:xlabel='Date'>"
      ]
     },
     "execution_count": 6,
     "metadata": {},
     "output_type": "execute_result"
    },
    {
     "data": {
      "image/png": "[encoded data removed]",
      "text/plain": [
       "<Figure size 432x288 with 1 Axes>"
      ]
     },
     "metadata": {
      "needs_background": "light"
     },
     "output_type": "display_data"
    }
   ],
   "source": [
    "%matplotlib inline\n",
    "df.Close.resample('M').mean().plot(kind=\"bar\")"
   ]
  },
  {
   "cell_type": "code",
   "execution_count": 7,
   "metadata": {},
   "outputs": [
    {
     "data": {
      "text/html": [
       "<div>\n",
       "<style scoped>\n",
       "    .dataframe tbody tr th:only-of-type {\n",
       "        vertical-align: middle;\n",
       "    }\n",
       "\n",
       "    .dataframe tbody tr th {\n",
       "        vertical-align: top;\n",
       "    }\n",
       "\n",
       "    .dataframe thead th {\n",
       "        text-align: right;\n",
       "    }\n",
       "</style>\n",
       "<table border=\"1\" class=\"dataframe\">\n",
       "  <thead>\n",
       "    <tr style=\"text-align: right;\">\n",
       "      <th></th>\n",
       "      <th>Open</th>\n",
       "      <th>High</th>\n",
       "      <th>Low</th>\n",
       "      <th>Close</th>\n",
       "      <th>Adj Close</th>\n",
       "      <th>Volume</th>\n",
       "    </tr>\n",
       "  </thead>\n",
       "  <tbody>\n",
       "    <tr>\n",
       "      <th>0</th>\n",
       "      <td>100.589996</td>\n",
       "      <td>100.690002</td>\n",
       "      <td>98.040001</td>\n",
       "      <td>99.620003</td>\n",
       "      <td>93.514290</td>\n",
       "      <td>142718700</td>\n",
       "    </tr>\n",
       "    <tr>\n",
       "      <th>1</th>\n",
       "      <td>99.949997</td>\n",
       "      <td>102.379997</td>\n",
       "      <td>98.309998</td>\n",
       "      <td>100.730003</td>\n",
       "      <td>94.556244</td>\n",
       "      <td>280258200</td>\n",
       "    </tr>\n",
       "    <tr>\n",
       "      <th>2</th>\n",
       "      <td>101.330002</td>\n",
       "      <td>101.779999</td>\n",
       "      <td>95.180000</td>\n",
       "      <td>97.669998</td>\n",
       "      <td>91.683792</td>\n",
       "      <td>358539800</td>\n",
       "    </tr>\n",
       "    <tr>\n",
       "      <th>3</th>\n",
       "      <td>98.320000</td>\n",
       "      <td>105.489998</td>\n",
       "      <td>98.220001</td>\n",
       "      <td>105.220001</td>\n",
       "      <td>98.771042</td>\n",
       "      <td>358532900</td>\n",
       "    </tr>\n",
       "    <tr>\n",
       "      <th>4</th>\n",
       "      <td>104.849998</td>\n",
       "      <td>108.040001</td>\n",
       "      <td>104.699997</td>\n",
       "      <td>108.000000</td>\n",
       "      <td>101.380676</td>\n",
       "      <td>220230600</td>\n",
       "    </tr>\n",
       "  </tbody>\n",
       "</table>\n",
       "</div>"
      ],
      "text/plain": [
       "         Open        High         Low       Close   Adj Close     Volume\n",
       "0  100.589996  100.690002   98.040001   99.620003   93.514290  142718700\n",
       "1   99.949997  102.379997   98.309998  100.730003   94.556244  280258200\n",
       "2  101.330002  101.779999   95.180000   97.669998   91.683792  358539800\n",
       "3   98.320000  105.489998   98.220001  105.220001   98.771042  358532900\n",
       "4  104.849998  108.040001  104.699997  108.000000  101.380676  220230600"
      ]
     },
     "execution_count": 7,
     "metadata": {},
     "output_type": "execute_result"
    }
   ],
   "source": [
    "df = pd.read_csv(\"no_dates.csv\")\n",
    "df.head(5)"
   ]
  },
  {
   "cell_type": "code",
   "execution_count": 8,
   "metadata": {},
   "outputs": [
    {
     "data": {
      "text/plain": [
       "DatetimeIndex(['2014-09-29', '2014-10-06', '2014-10-13', '2014-10-20',\n",
       "               '2014-10-27', '2014-11-03', '2014-11-10', '2014-11-17',\n",
       "               '2014-11-24', '2014-12-01',\n",
       "               ...\n",
       "               '2018-01-22', '2018-01-29', '2018-02-05', '2018-02-12',\n",
       "               '2018-02-19', '2018-02-26', '2018-03-05', '2018-03-12',\n",
       "               '2018-03-19', '2018-03-26'],\n",
       "              dtype='datetime64[ns]', length=183, freq='W-MON')"
      ]
     },
     "execution_count": 8,
     "metadata": {},
     "output_type": "execute_result"
    }
   ],
   "source": [
    "rng = pd.date_range(start=\"2014-09-29\",end=\"2018-03-29\",freq=\"W-MON\")\n",
    "rng"
   ]
  },
  {
   "cell_type": "code",
   "execution_count": 9,
   "metadata": {},
   "outputs": [
    {
     "data": {
      "text/plain": [
       "<AxesSubplot:>"
      ]
     },
     "execution_count": 9,
     "metadata": {},
     "output_type": "execute_result"
    },
    {
     "data": {
      "image/png": "[encoded data removed]",
      "text/plain": [
       "<Figure size 432x288 with 1 Axes>"
      ]
     },
     "metadata": {
      "needs_background": "light"
     },
     "output_type": "display_data"
    }
   ],
   "source": [
    "%matplotlib inline\n",
    "df.set_index(rng,inplace=True)\n",
    "df.Close.plot()"
   ]
  },
  {
   "cell_type": "code",
   "execution_count": 10,
   "metadata": {},
   "outputs": [
    {
     "data": {
      "text/html": [
       "<div>\n",
       "<style scoped>\n",
       "    .dataframe tbody tr th:only-of-type {\n",
       "        vertical-align: middle;\n",
       "    }\n",
       "\n",
       "    .dataframe tbody tr th {\n",
       "        vertical-align: top;\n",
       "    }\n",
       "\n",
       "    .dataframe thead th {\n",
       "        text-align: right;\n",
       "    }\n",
       "</style>\n",
       "<table border=\"1\" class=\"dataframe\">\n",
       "  <thead>\n",
       "    <tr style=\"text-align: right;\">\n",
       "      <th></th>\n",
       "      <th>Open</th>\n",
       "      <th>High</th>\n",
       "      <th>Low</th>\n",
       "      <th>Close</th>\n",
       "      <th>Adj Close</th>\n",
       "      <th>Volume</th>\n",
       "    </tr>\n",
       "  </thead>\n",
       "  <tbody>\n",
       "    <tr>\n",
       "      <th>2017-01-02</th>\n",
       "      <td>115.800003</td>\n",
       "      <td>118.160004</td>\n",
       "      <td>114.760002</td>\n",
       "      <td>117.910004</td>\n",
       "      <td>115.572708</td>\n",
       "      <td>103845500</td>\n",
       "    </tr>\n",
       "    <tr>\n",
       "      <th>2017-01-09</th>\n",
       "      <td>117.949997</td>\n",
       "      <td>119.930000</td>\n",
       "      <td>117.940002</td>\n",
       "      <td>119.040001</td>\n",
       "      <td>116.680298</td>\n",
       "      <td>138810700</td>\n",
       "    </tr>\n",
       "    <tr>\n",
       "      <th>2017-01-16</th>\n",
       "      <td>118.339996</td>\n",
       "      <td>120.500000</td>\n",
       "      <td>118.220001</td>\n",
       "      <td>120.000000</td>\n",
       "      <td>117.621269</td>\n",
       "      <td>116348000</td>\n",
       "    </tr>\n",
       "    <tr>\n",
       "      <th>2017-01-23</th>\n",
       "      <td>120.000000</td>\n",
       "      <td>122.440002</td>\n",
       "      <td>119.500000</td>\n",
       "      <td>121.949997</td>\n",
       "      <td>119.532608</td>\n",
       "      <td>124539300</td>\n",
       "    </tr>\n",
       "    <tr>\n",
       "      <th>2017-01-30</th>\n",
       "      <td>120.930000</td>\n",
       "      <td>130.490005</td>\n",
       "      <td>120.620003</td>\n",
       "      <td>129.080002</td>\n",
       "      <td>126.521278</td>\n",
       "      <td>249781200</td>\n",
       "    </tr>\n",
       "  </tbody>\n",
       "</table>\n",
       "</div>"
      ],
      "text/plain": [
       "                  Open        High         Low       Close   Adj Close  \\\n",
       "2017-01-02  115.800003  118.160004  114.760002  117.910004  115.572708   \n",
       "2017-01-09  117.949997  119.930000  117.940002  119.040001  116.680298   \n",
       "2017-01-16  118.339996  120.500000  118.220001  120.000000  117.621269   \n",
       "2017-01-23  120.000000  122.440002  119.500000  121.949997  119.532608   \n",
       "2017-01-30  120.930000  130.490005  120.620003  129.080002  126.521278   \n",
       "\n",
       "               Volume  \n",
       "2017-01-02  103845500  \n",
       "2017-01-09  138810700  \n",
       "2017-01-16  116348000  \n",
       "2017-01-23  124539300  \n",
       "2017-01-30  249781200  "
      ]
     },
     "execution_count": 10,
     "metadata": {},
     "output_type": "execute_result"
    }
   ],
   "source": [
    "df[\"2017-01\"]"
   ]
  },
  {
   "cell_type": "code",
   "execution_count": 11,
   "metadata": {},
   "outputs": [
    {
     "data": {
      "text/html": [
       "<div>\n",
       "<style scoped>\n",
       "    .dataframe tbody tr th:only-of-type {\n",
       "        vertical-align: middle;\n",
       "    }\n",
       "\n",
       "    .dataframe tbody tr th {\n",
       "        vertical-align: top;\n",
       "    }\n",
       "\n",
       "    .dataframe thead th {\n",
       "        text-align: right;\n",
       "    }\n",
       "</style>\n",
       "<table border=\"1\" class=\"dataframe\">\n",
       "  <thead>\n",
       "    <tr style=\"text-align: right;\">\n",
       "      <th></th>\n",
       "      <th>Open</th>\n",
       "      <th>High</th>\n",
       "      <th>Low</th>\n",
       "      <th>Close</th>\n",
       "      <th>Adj Close</th>\n",
       "      <th>Volume</th>\n",
       "    </tr>\n",
       "  </thead>\n",
       "  <tbody>\n",
       "    <tr>\n",
       "      <th>2015-01-01</th>\n",
       "      <td>113.790001</td>\n",
       "      <td>114.769997</td>\n",
       "      <td>107.349998</td>\n",
       "      <td>109.330002</td>\n",
       "      <td>103.074181</td>\n",
       "      <td>152088400</td>\n",
       "    </tr>\n",
       "    <tr>\n",
       "      <th>2016-01-01</th>\n",
       "      <td>107.589996</td>\n",
       "      <td>109.430000</td>\n",
       "      <td>104.820000</td>\n",
       "      <td>105.260002</td>\n",
       "      <td>100.927895</td>\n",
       "      <td>123484500</td>\n",
       "    </tr>\n",
       "    <tr>\n",
       "      <th>2017-01-02</th>\n",
       "      <td>115.800003</td>\n",
       "      <td>118.160004</td>\n",
       "      <td>114.760002</td>\n",
       "      <td>117.910004</td>\n",
       "      <td>115.572708</td>\n",
       "      <td>103845500</td>\n",
       "    </tr>\n",
       "    <tr>\n",
       "      <th>2018-01-01</th>\n",
       "      <td>170.160004</td>\n",
       "      <td>175.369995</td>\n",
       "      <td>169.259995</td>\n",
       "      <td>175.000000</td>\n",
       "      <td>174.289398</td>\n",
       "      <td>101168400</td>\n",
       "    </tr>\n",
       "  </tbody>\n",
       "</table>\n",
       "</div>"
      ],
      "text/plain": [
       "                  Open        High         Low       Close   Adj Close  \\\n",
       "2015-01-01  113.790001  114.769997  107.349998  109.330002  103.074181   \n",
       "2016-01-01  107.589996  109.430000  104.820000  105.260002  100.927895   \n",
       "2017-01-02  115.800003  118.160004  114.760002  117.910004  115.572708   \n",
       "2018-01-01  170.160004  175.369995  169.259995  175.000000  174.289398   \n",
       "\n",
       "               Volume  \n",
       "2015-01-01  152088400  \n",
       "2016-01-01  123484500  \n",
       "2017-01-02  103845500  \n",
       "2018-01-01  101168400  "
      ]
     },
     "execution_count": 11,
     "metadata": {},
     "output_type": "execute_result"
    }
   ],
   "source": [
    "df.asfreq('BAS',method=\"pad\")\n",
    "# to fill sat-sun price with friday price"
   ]
  },
  {
   "cell_type": "code",
   "execution_count": 12,
   "metadata": {},
   "outputs": [
    {
     "data": {
      "text/plain": [
       "DatetimeIndex(['2014-09-29', '2014-10-06', '2014-10-13', '2014-10-20',\n",
       "               '2014-10-27', '2014-11-03', '2014-11-10', '2014-11-17',\n",
       "               '2014-11-24', '2014-12-01',\n",
       "               ...\n",
       "               '2018-01-22', '2018-01-29', '2018-02-05', '2018-02-12',\n",
       "               '2018-02-19', '2018-02-26', '2018-03-05', '2018-03-12',\n",
       "               '2018-03-19', '2018-03-26'],\n",
       "              dtype='datetime64[ns]', length=183, freq='W-MON')"
      ]
     },
     "execution_count": 12,
     "metadata": {},
     "output_type": "execute_result"
    }
   ],
   "source": [
    "rng = pd.date_range(start=\"2014-09-29\",periods=183,freq=\"W-MON\")\n",
    "rng"
   ]
  },
  {
   "cell_type": "code",
   "execution_count": 13,
   "metadata": {},
   "outputs": [
    {
     "data": {
      "text/plain": [
       "2014-09-29    4\n",
       "2014-10-06    9\n",
       "2014-10-13    9\n",
       "2014-10-20    6\n",
       "2014-10-27    5\n",
       "2014-11-03    7\n",
       "2014-11-10    4\n",
       "2014-11-17    9\n",
       "2014-11-24    3\n",
       "2014-12-01    2\n",
       "Freq: W-MON, dtype: int32"
      ]
     },
     "execution_count": 13,
     "metadata": {},
     "output_type": "execute_result"
    }
   ],
   "source": [
    "import numpy as np\n",
    "ts = pd.Series(np.random.randint(1,10,len(rng)),index=rng)\n",
    "ts.head(10)"
   ]
  },
  {
   "cell_type": "code",
   "execution_count": 14,
   "metadata": {},
   "outputs": [],
   "source": [
    "from pandas.tseries.holiday import USFederalHolidayCalendar\n",
    "from pandas.tseries.offsets import CustomBusinessDay"
   ]
  },
  {
   "cell_type": "code",
   "execution_count": 17,
   "metadata": {},
   "outputs": [
    {
     "data": {
      "text/plain": [
       "DatetimeIndex(['2014-09-29', '2014-09-30', '2014-10-01', '2014-10-02',\n",
       "               '2014-10-03', '2014-10-06', '2014-10-07', '2014-10-08',\n",
       "               '2014-10-09', '2014-10-10',\n",
       "               ...\n",
       "               '2018-03-16', '2018-03-19', '2018-03-20', '2018-03-21',\n",
       "               '2018-03-22', '2018-03-23', '2018-03-26', '2018-03-27',\n",
       "               '2018-03-28', '2018-03-29'],\n",
       "              dtype='datetime64[ns]', length=914, freq='B')"
      ]
     },
     "execution_count": 17,
     "metadata": {},
     "output_type": "execute_result"
    }
   ],
   "source": [
    "usb = CustomBusinessDay(calendar=USFederalHolidayCalendar())\n",
    "rng = pd.date_range(start=\"2014-09-29\",end=\"2018-03-29\",freq=\"B\")\n",
    "rng"
   ]
  },
  {
   "cell_type": "code",
   "execution_count": null,
   "metadata": {},
   "outputs": [],
   "source": []
  }
 ],
 "metadata": {
  "kernelspec": {
   "display_name": "Python 3",
   "language": "python",
   "name": "python3"
  },
  "language_info": {
   "codemirror_mode": {
    "name": "ipython",
    "version": 3
   },
   "file_extension": ".py",
   "mimetype": "text/x-python",
   "name": "python",
   "nbconvert_exporter": "python",
   "pygments_lexer": "ipython3",
   "version": "3.8.5"
  }
 },
 "nbformat": 4,
 "nbformat_minor": 4
}
