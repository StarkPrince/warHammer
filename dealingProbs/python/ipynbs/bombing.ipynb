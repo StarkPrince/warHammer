{
 "cells": [
  {
   "cell_type": "code",
   "execution_count": 1,
   "metadata": {},
   "outputs": [],
   "source": [
    "from apiclient.discovery import build\n",
    "from google_auth_oauthlib.flow import InstalledAppFlow"
   ]
  },
  {
   "cell_type": "code",
   "execution_count": 4,
   "metadata": {},
   "outputs": [],
   "source": [
    "client_secret_file = 'client_secret_59553033659-d1hci9nc0ge2i5bcr9946qrunelsgm9j.apps.googleusercontent.com.json'\n",
    "Scopes = ['https://www.googleapis.com/auth/youtube.force-ssl']"
   ]
  },
  {
   "cell_type": "code",
   "execution_count": 5,
   "metadata": {},
   "outputs": [
    {
     "name": "stdout",
     "output_type": "stream",
     "text": [
      "Please visit this URL to authorize this application: https://accounts.google.com/o/oauth2/auth?response_type=code&client_id=59553033659-d1hci9nc0ge2i5bcr9946qrunelsgm9j.apps.googleusercontent.com&redirect_uri=urn%3Aietf%3Awg%3Aoauth%3A2.0%3Aoob&scope=https%3A%2F%2Fwww.googleapis.com%2Fauth%2Fyoutube.force-ssl&state=pC1MZtQRNAs0V8bPRnhdWyev9EwEaV&prompt=consent&access_type=offline\n",
      "Enter the authorization code: 4/1AY0e-g6HkywyLMnLfgJb05WhKo54swjAyHHwE9O3ZgbIamTamXWevRI5l3U\n"
     ]
    }
   ],
   "source": [
    "flow = InstalledAppFlow.from_client_secrets_file(client_secret_file,Scopes)\n",
    "credentials = flow.run_console()\n",
    "youtube = build('youtube','v3',credentials=credentials)"
   ]
  },
  {
   "cell_type": "code",
   "execution_count": 6,
   "metadata": {},
   "outputs": [],
   "source": [
    "def insert_comment(youtube,video_id,text):\n",
    "    insert_result = youtube.commentThreads().insert(\n",
    "        part=\"snippet\",\n",
    "        body={\n",
    "          \"snippet\": {\n",
    "            \"videoId\": video_id,\n",
    "            \"topLevelComment\": {\n",
    "              \"snippet\": {\n",
    "                \"textOriginal\": text\n",
    "              }\n",
    "            }\n",
    "          }\n",
    "        }\n",
    "    ).execute()\n",
    "\n",
    "    comment = insert_result[\"snippet\"][\"topLevelComment\"]\n",
    "    author = comment[\"snippet\"][\"authorDisplayName\"]\n",
    "    text = comment[\"snippet\"][\"textDisplay\"]\n",
    "    print(f\"inserted comment for {author}, {text}\")"
   ]
  },
  {
   "cell_type": "code",
   "execution_count": 12,
   "metadata": {},
   "outputs": [
    {
     "name": "stdout",
     "output_type": "stream",
     "text": [
      "inserted comment for Prince Raj, who is rahul?\n"
     ]
    }
   ],
   "source": [
    "insert_comment(youtube,\"dWFBVycvAZI\",\"who is rahul?\")"
   ]
  },
  {
   "cell_type": "code",
   "execution_count": 9,
   "metadata": {},
   "outputs": [
    {
     "name": "stdout",
     "output_type": "stream",
     "text": [
      "inserted comment for Prince Raj, arnab = chutiya journalist\n",
      "inserted comment for Prince Raj, arnab = chutiya journalist\n",
      "inserted comment for Prince Raj, arnab = chutiya journalist\n",
      "inserted comment for Prince Raj, arnab = chutiya journalist\n",
      "inserted comment for Prince Raj, arnab = chutiya journalist\n",
      "inserted comment for Prince Raj, arnab = chutiya journalist\n",
      "inserted comment for Prince Raj, arnab = chutiya journalist\n",
      "inserted comment for Prince Raj, arnab = chutiya journalist\n",
      "inserted comment for Prince Raj, arnab = chutiya journalist\n",
      "inserted comment for Prince Raj, arnab = chutiya journalist\n",
      "inserted comment for Prince Raj, arnab = chutiya journalist\n",
      "inserted comment for Prince Raj, arnab = chutiya journalist\n",
      "inserted comment for Prince Raj, arnab = chutiya journalist\n",
      "inserted comment for Prince Raj, arnab = chutiya journalist\n",
      "inserted comment for Prince Raj, arnab = chutiya journalist\n",
      "inserted comment for Prince Raj, arnab = chutiya journalist\n",
      "inserted comment for Prince Raj, arnab = chutiya journalist\n",
      "inserted comment for Prince Raj, arnab = chutiya journalist\n",
      "inserted comment for Prince Raj, arnab = chutiya journalist\n",
      "inserted comment for Prince Raj, arnab = chutiya journalist\n",
      "inserted comment for Prince Raj, arnab = chutiya journalist\n",
      "inserted comment for Prince Raj, arnab = chutiya journalist\n",
      "inserted comment for Prince Raj, arnab = chutiya journalist\n",
      "inserted comment for Prince Raj, arnab = chutiya journalist\n",
      "inserted comment for Prince Raj, arnab = chutiya journalist\n",
      "inserted comment for Prince Raj, arnab = chutiya journalist\n",
      "inserted comment for Prince Raj, arnab = chutiya journalist\n",
      "inserted comment for Prince Raj, arnab = chutiya journalist\n",
      "inserted comment for Prince Raj, arnab = chutiya journalist\n",
      "inserted comment for Prince Raj, arnab = chutiya journalist\n",
      "inserted comment for Prince Raj, arnab = chutiya journalist\n",
      "inserted comment for Prince Raj, arnab = chutiya journalist\n",
      "inserted comment for Prince Raj, arnab = chutiya journalist\n",
      "inserted comment for Prince Raj, arnab = chutiya journalist\n",
      "inserted comment for Prince Raj, arnab = chutiya journalist\n",
      "inserted comment for Prince Raj, arnab = chutiya journalist\n",
      "inserted comment for Prince Raj, arnab = chutiya journalist\n",
      "inserted comment for Prince Raj, arnab = chutiya journalist\n",
      "inserted comment for Prince Raj, arnab = chutiya journalist\n",
      "inserted comment for Prince Raj, arnab = chutiya journalist\n",
      "inserted comment for Prince Raj, arnab = chutiya journalist\n",
      "inserted comment for Prince Raj, arnab = chutiya journalist\n",
      "inserted comment for Prince Raj, arnab = chutiya journalist\n",
      "inserted comment for Prince Raj, arnab = chutiya journalist\n",
      "inserted comment for Prince Raj, arnab = chutiya journalist\n",
      "inserted comment for Prince Raj, arnab = chutiya journalist\n",
      "inserted comment for Prince Raj, arnab = chutiya journalist\n",
      "inserted comment for Prince Raj, arnab = chutiya journalist\n",
      "inserted comment for Prince Raj, arnab = chutiya journalist\n",
      "inserted comment for Prince Raj, arnab = chutiya journalist\n",
      "inserted comment for Prince Raj, arnab = chutiya journalist\n",
      "inserted comment for Prince Raj, arnab = chutiya journalist\n"
     ]
    },
    {
     "ename": "HttpError",
     "evalue": "<HttpError 400 when requesting https://youtube.googleapis.com/youtube/v3/commentThreads?part=snippet&alt=json returned \"The API server failed to successfully process the request. While this can be a transient error, it usually indicates that the request's input is invalid. Check the structure of the <code>commentThread</code> resource in the request body to ensure that it is valid.\". Details: \"[{'message': \"The API server failed to successfully process the request. While this can be a transient error, it usually indicates that the request's input is invalid. Check the structure of the <code>commentThread</code> resource in the request body to ensure that it is valid.\", 'domain': 'youtube.commentThread', 'reason': 'processingFailure', 'location': 'body', 'locationType': 'other'}]\">",
     "output_type": "error",
     "traceback": [
      "\u001b[1;31m---------------------------------------------------------------------------\u001b[0m",
      "\u001b[1;31mHttpError\u001b[0m                                 Traceback (most recent call last)",
      "\u001b[1;32m<ipython-input-9-955ca495978a>\u001b[0m in \u001b[0;36m<module>\u001b[1;34m\u001b[0m\n\u001b[0;32m     99\u001b[0m  \u001b[1;34m'He2g739uoT4'\u001b[0m\u001b[1;33m,\u001b[0m\u001b[1;33m\u001b[0m\u001b[1;33m\u001b[0m\u001b[0m\n\u001b[0;32m    100\u001b[0m  'o_OHdc-nQVo']:\n\u001b[1;32m--> 101\u001b[1;33m     \u001b[0minsert_comment\u001b[0m\u001b[1;33m(\u001b[0m\u001b[0myoutube\u001b[0m\u001b[1;33m,\u001b[0m\u001b[0mi\u001b[0m\u001b[1;33m,\u001b[0m\u001b[1;34m\"arnab = chutiya journalist \"\u001b[0m\u001b[1;33m)\u001b[0m\u001b[1;33m\u001b[0m\u001b[1;33m\u001b[0m\u001b[0m\n\u001b[0m\u001b[0;32m    102\u001b[0m     \u001b[1;32mtry\u001b[0m\u001b[1;33m:\u001b[0m\u001b[1;33m\u001b[0m\u001b[1;33m\u001b[0m\u001b[0m\n\u001b[0;32m    103\u001b[0m         \u001b[0myoutube\u001b[0m\u001b[1;33m.\u001b[0m\u001b[0mvideos\u001b[0m\u001b[1;33m(\u001b[0m\u001b[1;33m)\u001b[0m\u001b[1;33m.\u001b[0m\u001b[0mrate\u001b[0m\u001b[1;33m(\u001b[0m\u001b[0mrating\u001b[0m\u001b[1;33m=\u001b[0m\u001b[1;34m'dislike'\u001b[0m\u001b[1;33m,\u001b[0m\u001b[0mid\u001b[0m\u001b[1;33m=\u001b[0m\u001b[0mi\u001b[0m\u001b[1;33m)\u001b[0m\u001b[1;33m.\u001b[0m\u001b[0mexecute\u001b[0m\u001b[1;33m(\u001b[0m\u001b[1;33m)\u001b[0m\u001b[1;33m\u001b[0m\u001b[1;33m\u001b[0m\u001b[0m\n",
      "\u001b[1;32m<ipython-input-6-97d836275abc>\u001b[0m in \u001b[0;36minsert_comment\u001b[1;34m(youtube, video_id, text)\u001b[0m\n\u001b[0;32m      1\u001b[0m \u001b[1;32mdef\u001b[0m \u001b[0minsert_comment\u001b[0m\u001b[1;33m(\u001b[0m\u001b[0myoutube\u001b[0m\u001b[1;33m,\u001b[0m\u001b[0mvideo_id\u001b[0m\u001b[1;33m,\u001b[0m\u001b[0mtext\u001b[0m\u001b[1;33m)\u001b[0m\u001b[1;33m:\u001b[0m\u001b[1;33m\u001b[0m\u001b[1;33m\u001b[0m\u001b[0m\n\u001b[1;32m----> 2\u001b[1;33m     insert_result = youtube.commentThreads().insert(\n\u001b[0m\u001b[0;32m      3\u001b[0m         \u001b[0mpart\u001b[0m\u001b[1;33m=\u001b[0m\u001b[1;34m\"snippet\"\u001b[0m\u001b[1;33m,\u001b[0m\u001b[1;33m\u001b[0m\u001b[1;33m\u001b[0m\u001b[0m\n\u001b[0;32m      4\u001b[0m         body={\n\u001b[0;32m      5\u001b[0m           \"snippet\": {\n",
      "\u001b[1;32mc:\\users\\prince\\appdata\\local\\programs\\python\\python39\\lib\\site-packages\\googleapiclient\\_helpers.py\u001b[0m in \u001b[0;36mpositional_wrapper\u001b[1;34m(*args, **kwargs)\u001b[0m\n\u001b[0;32m    132\u001b[0m                 \u001b[1;32melif\u001b[0m \u001b[0mpositional_parameters_enforcement\u001b[0m \u001b[1;33m==\u001b[0m \u001b[0mPOSITIONAL_WARNING\u001b[0m\u001b[1;33m:\u001b[0m\u001b[1;33m\u001b[0m\u001b[1;33m\u001b[0m\u001b[0m\n\u001b[0;32m    133\u001b[0m                     \u001b[0mlogger\u001b[0m\u001b[1;33m.\u001b[0m\u001b[0mwarning\u001b[0m\u001b[1;33m(\u001b[0m\u001b[0mmessage\u001b[0m\u001b[1;33m)\u001b[0m\u001b[1;33m\u001b[0m\u001b[1;33m\u001b[0m\u001b[0m\n\u001b[1;32m--> 134\u001b[1;33m             \u001b[1;32mreturn\u001b[0m \u001b[0mwrapped\u001b[0m\u001b[1;33m(\u001b[0m\u001b[1;33m*\u001b[0m\u001b[0margs\u001b[0m\u001b[1;33m,\u001b[0m \u001b[1;33m**\u001b[0m\u001b[0mkwargs\u001b[0m\u001b[1;33m)\u001b[0m\u001b[1;33m\u001b[0m\u001b[1;33m\u001b[0m\u001b[0m\n\u001b[0m\u001b[0;32m    135\u001b[0m \u001b[1;33m\u001b[0m\u001b[0m\n\u001b[0;32m    136\u001b[0m         \u001b[1;32mreturn\u001b[0m \u001b[0mpositional_wrapper\u001b[0m\u001b[1;33m\u001b[0m\u001b[1;33m\u001b[0m\u001b[0m\n",
      "\u001b[1;32mc:\\users\\prince\\appdata\\local\\programs\\python\\python39\\lib\\site-packages\\googleapiclient\\http.py\u001b[0m in \u001b[0;36mexecute\u001b[1;34m(self, http, num_retries)\u001b[0m\n\u001b[0;32m    933\u001b[0m             \u001b[0mcallback\u001b[0m\u001b[1;33m(\u001b[0m\u001b[0mresp\u001b[0m\u001b[1;33m)\u001b[0m\u001b[1;33m\u001b[0m\u001b[1;33m\u001b[0m\u001b[0m\n\u001b[0;32m    934\u001b[0m         \u001b[1;32mif\u001b[0m \u001b[0mresp\u001b[0m\u001b[1;33m.\u001b[0m\u001b[0mstatus\u001b[0m \u001b[1;33m>=\u001b[0m \u001b[1;36m300\u001b[0m\u001b[1;33m:\u001b[0m\u001b[1;33m\u001b[0m\u001b[1;33m\u001b[0m\u001b[0m\n\u001b[1;32m--> 935\u001b[1;33m             \u001b[1;32mraise\u001b[0m \u001b[0mHttpError\u001b[0m\u001b[1;33m(\u001b[0m\u001b[0mresp\u001b[0m\u001b[1;33m,\u001b[0m \u001b[0mcontent\u001b[0m\u001b[1;33m,\u001b[0m \u001b[0muri\u001b[0m\u001b[1;33m=\u001b[0m\u001b[0mself\u001b[0m\u001b[1;33m.\u001b[0m\u001b[0muri\u001b[0m\u001b[1;33m)\u001b[0m\u001b[1;33m\u001b[0m\u001b[1;33m\u001b[0m\u001b[0m\n\u001b[0m\u001b[0;32m    936\u001b[0m         \u001b[1;32mreturn\u001b[0m \u001b[0mself\u001b[0m\u001b[1;33m.\u001b[0m\u001b[0mpostproc\u001b[0m\u001b[1;33m(\u001b[0m\u001b[0mresp\u001b[0m\u001b[1;33m,\u001b[0m \u001b[0mcontent\u001b[0m\u001b[1;33m)\u001b[0m\u001b[1;33m\u001b[0m\u001b[1;33m\u001b[0m\u001b[0m\n\u001b[0;32m    937\u001b[0m \u001b[1;33m\u001b[0m\u001b[0m\n",
      "\u001b[1;31mHttpError\u001b[0m: <HttpError 400 when requesting https://youtube.googleapis.com/youtube/v3/commentThreads?part=snippet&alt=json returned \"The API server failed to successfully process the request. While this can be a transient error, it usually indicates that the request's input is invalid. Check the structure of the <code>commentThread</code> resource in the request body to ensure that it is valid.\". Details: \"[{'message': \"The API server failed to successfully process the request. While this can be a transient error, it usually indicates that the request's input is invalid. Check the structure of the <code>commentThread</code> resource in the request body to ensure that it is valid.\", 'domain': 'youtube.commentThread', 'reason': 'processingFailure', 'location': 'body', 'locationType': 'other'}]\">"
     ]
    }
   ],
   "source": [
    "for i in ['vrugPfGkGoU',\n",
    " 'fREjC5MA3WU',\n",
    " '_1ExFcwNaOU',\n",
    " 'MqrJgSvrrRM',\n",
    " 'Lww4nfcx8n0',\n",
    " 'bXmCAyxquaU',\n",
    " 'g1oNgOGToF8',\n",
    " 'u1syBXt3l7U',\n",
    " 'T3wpNsPS9Vg',\n",
    " 'Zjb3RPrcfNo',\n",
    " 'MuZ-mmHg5Jk',\n",
    " 'h-ocFLhShv4',\n",
    " 'XkvYtdIdDXA',\n",
    " 'hv8wMEkC5EY',\n",
    " 'AHw5owB1-2o',\n",
    " 'On0bFoVhYkU',\n",
    " 'myXECt0w1EY',\n",
    " 'oxmVy-6ld7c',\n",
    " 'C8m2BQCOANc',\n",
    " 'eo1obswzfEw',\n",
    " 'ZSqy0Alz55I',\n",
    " 'KEkIIPEUqfQ',\n",
    " 'G1UzrK69Adk',\n",
    " 'ziiSmJrON5k',\n",
    " 'E94AE0sAePM',\n",
    " 'TzhrrM9SVMM',\n",
    " 'gsNluZliCAc',\n",
    " '9OD2sYw_Rpg',\n",
    " 'ynQ8g_q6egg',\n",
    " '-vR8ll6MjP0',\n",
    " 'S-htfwOFMgg',\n",
    " 'e4rm4RyhV_k',\n",
    " 'wpHeioDZ7GA',\n",
    " 'V5NNaws3ECg',\n",
    " 'mR_nnHODKPE',\n",
    " 'WCL-RKWcDiE',\n",
    " 'nY86cqrIPq8',\n",
    " 'eZLg7WGE0Xo',\n",
    " 'SGwZ_tTP1so',\n",
    " 'S4yv3pQ92XA',\n",
    " 'uLYJa3dlNcg',\n",
    " 'CnR_cUjk02A',\n",
    " '2LTUoOFHaJI',\n",
    " 'c3Eg4IvpITA',\n",
    " 'CeIaRTN2ttI',\n",
    " 'aKEzv-y13NI',\n",
    " '6K3QiSGB38c',\n",
    " 'DpCineJ-GTs',\n",
    " 'uwz979ib-KM',\n",
    " 'EZ5r_7Gmkq8',\n",
    " 'iIdlEOGnSEU',\n",
    " '3LCQdKcPfAk',\n",
    " 'FOrw1SZ-6og',\n",
    " 'yjnBgr5XLZ0',\n",
    " '0IYiIFc-7So',\n",
    " 'HvMxyIZWsQE',\n",
    " '5wKSd5OQWQ4',\n",
    " 'nYlFOfeRW1g',\n",
    " '6sZP5sR-lLs',\n",
    " '-LdTQdd22Hw',\n",
    " 'xbkFF8eaWx0',\n",
    " 'jxY7i8925NA',\n",
    " 'UPsn1GenWi4',\n",
    " 'g0tfe_XtHvo',\n",
    " '0E5tjc4EoTU',\n",
    " 'J1pmMk-edLQ',\n",
    " 'GEXyW59QRBQ',\n",
    " 'cUW4jeh9yx0',\n",
    " 'bYcZrBPgWVE',\n",
    " 'qm-d1qHmvA8',\n",
    " '0DXj4If4IhI',\n",
    " 'mcVr59WH_dY',\n",
    " '7EYKnZ5_zWg',\n",
    " '8RIy2tfrn9c',\n",
    " '9W_AxeqybAU',\n",
    " 'PNkiwrMHux8',\n",
    " 'YQCY_fswQsc',\n",
    " 'Pb_IRbU_6RQ',\n",
    " '4zlvJrsRMwY',\n",
    " '_Sj4x2bt6hs',\n",
    " '8xwNhZYTZOU',\n",
    " 'g18Kgp_KOwc',\n",
    " 'QPdVbRDMG9c',\n",
    " 'J4mPuZ8PNcg',\n",
    " 'mjn3jpyhC_A',\n",
    " 'cEg-WA812r0',\n",
    " 'cBSs1v0tcSU',\n",
    " 'TchRuRa0G2c',\n",
    " 'Jj3Ugul2gdk',\n",
    " 'wDToZptG1LI',\n",
    " 'dTfyH1XJpDY',\n",
    " 'iuv9UD7oZDk',\n",
    " 'UILWHyr4PPE',\n",
    " 'Kc4R-nFdwXA',\n",
    " 'CHcDz_XjFcE',\n",
    " 'whLwdyor_fg',\n",
    " 'SwBxhoBc4yw',\n",
    " 'SN36-Hp8jME',\n",
    " 'He2g739uoT4',\n",
    " 'o_OHdc-nQVo']:\n",
    "    insert_comment(youtube,i,\"arnab = chutiya journalist \")\n",
    "    try:\n",
    "        youtube.videos().rate(rating='dislike',id=i).execute()\n",
    "    except:\n",
    "        pass"
   ]
  },
  {
   "cell_type": "code",
   "execution_count": 8,
   "metadata": {},
   "outputs": [
    {
     "name": "stdout",
     "output_type": "stream",
     "text": [
      "inserted comment for Prince Raj, arnab = chutiya journalist\n"
     ]
    }
   ],
   "source": [
    "for i in ['o_OHdc-nQVo']:\n",
    "    insert_comment(youtube,i,\"arnab = chutiya journalist \")\n",
    "    try:\n",
    "        youtube.videos().rate(rating='dislike',id=i).execute()\n",
    "    except:\n",
    "        pass"
   ]
  },
  {
   "cell_type": "code",
   "execution_count": null,
   "metadata": {},
   "outputs": [],
   "source": []
  }
 ],
 "metadata": {
  "kernelspec": {
   "display_name": "Python 3",
   "language": "python",
   "name": "python3"
  },
  "language_info": {
   "codemirror_mode": {
    "name": "ipython",
    "version": 3
   },
   "file_extension": ".py",
   "mimetype": "text/x-python",
   "name": "python",
   "nbconvert_exporter": "python",
   "pygments_lexer": "ipython3",
   "version": "3.9.0"
  }
 },
 "nbformat": 4,
 "nbformat_minor": 4
}
