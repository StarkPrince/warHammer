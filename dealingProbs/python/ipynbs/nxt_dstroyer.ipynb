{
 "cells": [
  {
   "cell_type": "code",
   "execution_count": null,
   "metadata": {},
   "outputs": [
    {
     "name": "stderr",
     "output_type": "stream",
     "text": [
      "237it [05:09,  1.14s/it]"
     ]
    }
   ],
   "source": [
    "from itertools import permutations,chain\n",
    "import requests\n",
    "from tqdm import tqdm\n",
    "\n",
    "\n",
    "concatenated = chain(range(48,58),range(97,103))\n",
    "\n",
    "with open(\"patch.txt\",\"w\") as g:\n",
    "    for ch1,ch2,ch3,ch4,ch5,ch6,ch7,ch8,ch9,ch10 in tqdm(permutations(concatenated, 10)):\n",
    "        s = \"https://html2-f.scribdassets.com/4pxq19rw3k25wk8e/pages/70-\"\n",
    "        r = \".jsonp\"\n",
    "        z = (ch1,ch2,ch3,ch4,ch5,ch6,ch7,ch8,ch9,ch10)\n",
    "        for i in z:\n",
    "            s+=chr(i)\n",
    "        s+=r\n",
    "        p = requests.get(s)\n",
    "        if str(p)==\"<Response [200]>\":\n",
    "            g.write(s+\"\\n\")+-"
   ]
  },
  {
   "cell_type": "code",
   "execution_count": null,
   "metadata": {},
   "outputs": [],
   "source": []
  }
 ],
 "metadata": {
  "kernelspec": {
   "display_name": "Python 3",
   "language": "python",
   "name": "python3"
  },
  "language_info": {
   "codemirror_mode": {
    "name": "ipython",
    "version": 3
   },
   "file_extension": ".py",
   "mimetype": "text/x-python",
   "name": "python",
   "nbconvert_exporter": "python",
   "pygments_lexer": "ipython3",
   "version": "3.9.0"
  }
 },
 "nbformat": 4,
 "nbformat_minor": 4
}
