{
 "cells": [
  {
   "cell_type": "code",
   "execution_count": 14,
   "metadata": {},
   "outputs": [],
   "source": [
    "class HashMap:\n",
    "    def __init__(self):\n",
    "        self.max = 10\n",
    "        self.arr = [[] for i in range(self.max)]\n",
    "        \n",
    "    def getHash(self,p):\n",
    "        return sum(ord(i) for i in p)%self.max\n",
    "    \n",
    "    def __setitem__(self,key,value):\n",
    "        h = self.getHash(key)\n",
    "        found = False\n",
    "        for idx,element in enumerate(self.arr[h]):\n",
    "            if len(element)==2 and element[0]==key:\n",
    "                self.arr[k][idx]=(key,value)\n",
    "                found= True\n",
    "        if not found:\n",
    "            self.arr[h].append((key,value))\n",
    "            \n",
    "    def __getitem__(self,key):\n",
    "        p = self.getHash(key)\n",
    "        for i in self.arr[p]:\n",
    "            return i[1]\n",
    "def avg(m,*days):\n",
    "    return(max(m.__getitem__(p) for p in days))"
   ]
  },
  {
   "cell_type": "code",
   "execution_count": 15,
   "metadata": {},
   "outputs": [],
   "source": [
    "lol = HashMap()\n",
    "with open(\"D:/Meredian//py-master/DataStructures/4_HashTable_2_Collisions/Solution/nyc_weather.csv\",\"r\") as f:\n",
    "    for lines in f:\n",
    "        p = lines.split(',')\n",
    "        day = p[0]\n",
    "        temp = int(p[1][:-1])\n",
    "        lol[day] = temp"
   ]
  },
  {
   "cell_type": "code",
   "execution_count": 16,
   "metadata": {},
   "outputs": [
    {
     "name": "stdout",
     "output_type": "stream",
     "text": [
      "34\n"
     ]
    }
   ],
   "source": [
    "print(avg(lol,\"Jan 2\",\"Jan 3\",\"Jan 4\"))"
   ]
  },
  {
   "cell_type": "code",
   "execution_count": null,
   "metadata": {},
   "outputs": [],
   "source": []
  },
  {
   "cell_type": "code",
   "execution_count": null,
   "metadata": {},
   "outputs": [],
   "source": []
  }
 ],
 "metadata": {
  "kernelspec": {
   "display_name": "Python 3",
   "language": "python",
   "name": "python3"
  },
  "language_info": {
   "codemirror_mode": {
    "name": "ipython",
    "version": 3
   },
   "file_extension": ".py",
   "mimetype": "text/x-python",
   "name": "python",
   "nbconvert_exporter": "python",
   "pygments_lexer": "ipython3",
   "version": "3.8.3"
  }
 },
 "nbformat": 4,
 "nbformat_minor": 4
}
