{
 "cells": [
  {
   "cell_type": "code",
   "execution_count": 3,
   "metadata": {},
   "outputs": [],
   "source": [
    "import requests\n",
    "from bs4 import BeautifulSoup\n",
    "import time"
   ]
  },
  {
   "cell_type": "code",
   "execution_count": 4,
   "metadata": {},
   "outputs": [
    {
     "name": "stdout",
     "output_type": "stream",
     "text": [
      "1.6034460067749023\n"
     ]
    }
   ],
   "source": [
    "a = time.time()\n",
    "html = requests.get(\"https://www.swiggy.com/restaurants/lollyss-madhubani-city-madhubani-431704\")\n",
    "print(time.time()-a)"
   ]
  },
  {
   "cell_type": "code",
   "execution_count": 5,
   "metadata": {},
   "outputs": [],
   "source": [
    "soup = BeautifulSoup(html.text,\"html.parser\")"
   ]
  },
  {
   "cell_type": "code",
   "execution_count": 15,
   "metadata": {},
   "outputs": [],
   "source": [
    "# for i in soup('h3')[1:]:\n",
    "#     print(i.text)\n",
    "# h3 styles_itemNameText__3bcKX\n",
    "# span rupee\n",
    "\n",
    "d = {}\n",
    "for i in range(2000,2022):\n",
    "    html = requests.get(\"https://time.com/collection/100-most-influential-people-\"+str(i)+\"/\")\n",
    "    soup = BeautifulSoup(html.text,\"html.parser\")\n",
    "    s = set()\n",
    "    for j in soup('h3')[1:]:\n",
    "        s.add(j.text.strip())\n",
    "    d[i] = s\n",
    "\n",
    "for i in range(2019,2022):\n",
    "    print(\"\\t\\t\\t\",i,\"\\t\\t\\t\")\n",
    "    for j in d[i]:\n",
    "        print(j)\n",
    "    print(\"\\n\")\n",
    "    print(\"\\n\")\n",
    "    print(\"\\n\")\n"
   ]
  },
  {
   "cell_type": "code",
   "execution_count": 14,
   "metadata": {},
   "outputs": [
    {
     "name": "stdout",
     "output_type": "stream",
     "text": [
      "Prince Harry and Meghan, The Duke and Duchess of Sussex\n",
      "Naomi Osaka\n",
      "Alexei Navalny\n",
      "Britney Spears\n",
      "Sherrilyn Ifill\n",
      "Dolly Parton\n",
      "Shohei Ohtani\n",
      "Cathy Park Hong\n",
      "Luis Manuel Otero Alcántara\n",
      "Nasrin Sotoudeh\n",
      "Manjusha P. Kulkarni, Russell Jeung and Cynthia Choi\n",
      "Muna El-Kurd and Mohammed El-Kurd\n",
      "Billie Eilish\n",
      "Billie Eilish\n",
      "Ben Crump\n",
      "Adi Utarini\n",
      "Sunisa Lee\n",
      "Felwine Sarr and Bénédicte Savoy\n",
      "Fatih Birol\n",
      "Aurora James\n",
      "Adar Poonawalla\n",
      "Phyllis Omido\n",
      "Frans Timmermans\n",
      "Indyra Mendoza and Claudia Spellmant\n",
      "Roger Cox\n",
      "Olimpia Coral Melo Cruz\n",
      "Dorottya Redai\n",
      "Esther Ze Naw Bamvo and Ei Thinzar Maung\n",
      "Simone Biles\n",
      "Simone Biles\n",
      "Tim Cook\n",
      "Shonda Rhimes\n",
      "Timbaland and Swizz Beatz\n",
      "Nikole Hannah-Jones\n",
      "Tom Brady\n",
      "Youn Yuh Jung\n",
      "Allyson Felix\n",
      "Angélique Kidjo\n",
      "Kenneth C. Frazier and Kenneth I. Chenault\n",
      "Luiza Trajano\n",
      "Kate Winslet\n",
      "Kate Winslet\n",
      "Bad Bunny\n",
      "Chloé Zhao\n",
      "Jason Sudeikis\n",
      "Scarlett Johansson\n",
      "Lil Nas X\n",
      "Jessica B. Harris\n",
      "Bowen Yang\n",
      "Tracee Ellis Ross\n",
      "Mark Bradford\n",
      "N.K. Jemisin\n",
      "Steven Yeun\n",
      "Daniel Kaluuya\n",
      "Omar Sy\n",
      "Barbara Kruger\n",
      "Kane Brown\n",
      "Ngozi Okonjo-Iweala\n",
      "Ngozi Okonjo-Iweala\n",
      "Joe Biden\n",
      "Xi Jinping\n",
      "Liz Cheney\n",
      "Kamala Harris\n",
      "Mario Draghi\n",
      "Tucker Carlson\n",
      "Naftali Bennett\n",
      "Stacey Abrams\n",
      "Nayib Bukele\n",
      "Donald Trump\n",
      "Narendra Modi\n",
      "Mahbouba Seraj\n",
      "Joe Manchin\n",
      "Ebrahim Raisi\n",
      "Rochelle Walensky\n",
      "Mamata Banerjee\n",
      "Ron Klain\n",
      "Elisa Loncon Antileo\n",
      "Abdul Ghani Baradar\n",
      "Jensen Huang\n",
      "Jensen Huang\n",
      "Elon Musk\n",
      "Adrienne Banfield Norris, Willow Smith and Jada Pinkett Smith\n",
      "Katalin Kariko\n",
      "Mary Barra\n",
      "John Nkengasong\n",
      "MiMi Aung\n",
      "Vitalik Buterin\n",
      "Viya\n",
      "Barney Graham\n",
      "Friederike Otto and Geert Jan van Oldenborgh\n",
      "Kengo Kuma\n",
      "Sara Menker\n",
      "Lidia Morawska\n"
     ]
    }
   ],
   "source": []
  },
  {
   "cell_type": "code",
   "execution_count": null,
   "metadata": {},
   "outputs": [],
   "source": []
  }
 ],
 "metadata": {
  "kernelspec": {
   "display_name": "Python 3 (ipykernel)",
   "language": "python",
   "name": "python3"
  },
  "language_info": {
   "codemirror_mode": {
    "name": "ipython",
    "version": 3
   },
   "file_extension": ".py",
   "mimetype": "text/x-python",
   "name": "python",
   "nbconvert_exporter": "python",
   "pygments_lexer": "ipython3",
   "version": "3.9.9"
  }
 },
 "nbformat": 4,
 "nbformat_minor": 4
}