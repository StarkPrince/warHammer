{
 "cells": [
  {
   "cell_type": "code",
   "execution_count": 1,
   "metadata": {},
   "outputs": [],
   "source": [
    "from apiclient.discovery import build\n",
    "from google_auth_oauthlib.flow import InstalledAppFlow"
   ]
  },
  {
   "cell_type": "code",
   "execution_count": 2,
   "metadata": {},
   "outputs": [],
   "source": [
    "client_secret_file = 'client_secret_59553033659-d1hci9nc0ge2i5bcr9946qrunelsgm9j.apps.googleusercontent.com.json'\n",
    "Scopes = ['https://www.googleapis.com/auth/youtube.force-ssl']"
   ]
  },
  {
   "cell_type": "code",
   "execution_count": 3,
   "metadata": {},
   "outputs": [
    {
     "name": "stdout",
     "output_type": "stream",
     "text": [
      "Please visit this URL to authorize this application: https://accounts.google.com/o/oauth2/auth?response_type=code&client_id=59553033659-d1hci9nc0ge2i5bcr9946qrunelsgm9j.apps.googleusercontent.com&redirect_uri=urn%3Aietf%3Awg%3Aoauth%3A2.0%3Aoob&scope=https%3A%2F%2Fwww.googleapis.com%2Fauth%2Fyoutube.force-ssl&state=3rLSFqIMTYXXseCsVcrAgKh5ezpRJi&prompt=consent&access_type=offline\n",
      "Enter the authorization code: 4/1AX4XfWhoJm0oPW7_ES-jBZ1EUoXmvN-pnb0Uk0elRCY4KtDSzGvLfbW0y-g\n"
     ]
    }
   ],
   "source": [
    "flow = InstalledAppFlow.from_client_secrets_file(client_secret_file,Scopes)\n",
    "credentials = flow.run_console()\n",
    "youtube = build('youtube','v3',credentials=credentials)"
   ]
  },
  {
   "cell_type": "code",
   "execution_count": 4,
   "metadata": {},
   "outputs": [],
   "source": [
    "def insert_comment(youtube,video_id,text):\n",
    "    insert_result = youtube.commentThreads().insert(\n",
    "        part=\"snippet\",\n",
    "        body={\n",
    "          \"snippet\": {\n",
    "            \"videoId\": video_id,\n",
    "            \"topLevelComment\": {\n",
    "              \"snippet\": {\n",
    "                \"textOriginal\": text\n",
    "              }\n",
    "            }\n",
    "          }\n",
    "        }\n",
    "    ).execute()\n",
    "\n",
    "    comment = insert_result[\"snippet\"][\"topLevelComment\"]\n",
    "    author = comment[\"snippet\"][\"authorDisplayName\"]\n",
    "    text = comment[\"snippet\"][\"textDisplay\"]\n",
    "    print(f\"inserted comment for {author}, {text}\")"
   ]
  },
  {
   "cell_type": "code",
   "execution_count": 5,
   "metadata": {},
   "outputs": [],
   "source": [
    "def like(vid_id):\n",
    "    request = youtube.videos().rate(\n",
    "        id=vid_id,\n",
    "        rating=\"like\"\n",
    "    )\n",
    "    request.execute()"
   ]
  },
  {
   "cell_type": "code",
   "execution_count": 6,
   "metadata": {},
   "outputs": [],
   "source": [
    "comments = [\n",
    "        \"What is a vampire's favorite fruit? A blood orange.\",\n",
    "    \"Have you heard about the film \\\"Constipation\\\", you probably haven't because it's not out yet.\",\n",
    "    \"Did you hear about the cow who jumped over the barbed wire fence? It was udder destruction.\",\n",
    "    \"Every machine in the coin factory broke down all of a sudden without explanation. It just doesn’t make any cents.\",\n",
    "    \"What do you do when you see a space man?\\r\\nPark your car, man.\",\n",
    "    'Q: What did the spaghetti say to the other spaghetti?\\r\\nA: Pasta la vista, baby!',\n",
    "      \"I'll tell you what often gets over looked... garden fences.\",\n",
    "  \"How many kids with ADD does it take to change a lightbulb? Let's go ride bikes!\",\n",
    "  'How do you get two whales in a car? Start in England and drive West.',\n",
    "  \"What did the traffic light say to the car as it passed? Dont look I m changing!\",\n",
    "  'How many bones are in the human hand? A handful of them.',\n",
    "  'What is the best way to carve?\\r\\nWhittle by whittle.',\n",
    "  'What kind of tree fits in your hand? A palm tree!',\n",
    "  \"What's the best thing about elevator jokes? They work on so many levels.\",\n",
    "  'I asked the surgeon if I could administer my own a…sthetic, they said: go ahead, knock yourself out.',\n",
    "  'I used to work for an origami company but they folded.',\n",
    "  'What do you call a nervous javelin thrower? Shakespeare.',\n",
    "  'How does a scientist freshen their breath? With experi-mints!',\n",
    "  'If you think swimming with dolphins is expensive, …wimming with sharks--it cost me an arm and a leg!',\n",
    "  'Why did the fireman wear red, white, and blue suspenders? To hold his pants up.',\n",
    "  'I started a new business making yachts in my attic this year...the sails are going through the roof',\n",
    "  'Whiteboards ... are remarkable.',\n",
    "    \"Dad, I'm cold.\",\n",
    "  \"Go stand in the corner, I hear it's 90 degrees.\",\n",
    "  \"Why should you never trust a pig with a secret? Because it's bound to squeal.\",\n",
    "  'What’s the longest word in the dictionary? Smiles. Because there’s a mile between the two S’s.',\n",
    "  'What concert costs only 45 cents? 50 cent featuring Nickelback.',\n",
    "  'I have the heart of a lion... and a lifetime ban from the San Diego Zoo.',\n",
    "  \"I couldn't figure out how the seat belt worked. Then it just clicked.\",\n",
    "  'Hear about the new restaurant called Karma? There’s no menu: You get what you deserve.',\n",
    "  'You will never guess what Elsa did to the balloon. She let it go.',\n",
    "  'Why did the barber win the race? He took a short cut.',\n",
    "  \"People who don't eat gluten are really going against the grain.\",\n",
    "  \"It's only a murder of crows if there's probable caws.\",\n",
    "  \"Never Trust Someone With Graph Paper...\\r\\n\\r\\nThey're always plotting something.\",\n",
    "  'Why did the cookie cry? It was feeling crumby.',\n",
    "  \"What is bread's favorite number?  Leaven.\",\n",
    "  'Just read a few facts about frogs. They were ribbiting.',\n",
    "  'When Dad drops a pea off of his plate ‘oh dear I’ve pee’d on the table!',\n",
    "  'Milk is also the fastest liquid on earth – its pasteurized before you even see it',\n",
    "  'Where does Napoleon keep his armies? In his sleevies.',\n",
    "  'I just read a book about Stockholm syndrome. It was pretty bad at first, but by the end I liked it.',\n",
    "  'I used to hate facial hair, but then it grew on me.',\n",
    "  'Two muffins were sitting in an oven, and the first…ised look, and answers, “WHOA, a talking muffin!”',\n",
    "  'What do you get hanging from Apple trees? Sore arms.',\n",
    "  'How do the trees get on the internet? They log on.',\n",
    "  'Did you hear about the runner who was criticized? He just took it in stride',\n",
    "  'Why do pumpkins sit on people’s porches?\\r\\n\\r\\nThey have no hands to knock on the door.',\n",
    "  \"When will the little snake arrive? I don't know but he won't be long...\",\n",
    "  'Who is the coolest Doctor in the hospital? The hip Doctor!',\n",
    "  'I was just looking at my ceiling. Not sure if it’s…iling in the world, but it’s definitely up there.',\n",
    "  'What do you call a troublesome Canadian high schooler? A poutine.',\n",
    "  'I needed a password eight characters long so I picked Snow White and the Seven Dwarfs.',\n",
    "  'Thanks for explaining the word \"many\" to me. It means a lot.',\n",
    "  'Two fish are in a tank, one turns to the other and says, \"how do you drive this thing?\"',\n",
    "  'A butcher accidentally backed into his meat grinder and got a little behind in his work that day.',\n",
    "  'How many apples grow on a tree? All of them!',\n",
    "  'How do you tell the difference between a crocodile…gator? You will see one later and one in a while.',\n",
    "  \"Did you hear about the guy whose whole left side was cut off? He's all right now.\",\n",
    "  'I was going to get a brain transplant, but I changed my mind',\n",
    "  'Did you hear the one about the guy with the broken hearing aid? Neither did he.',\n",
    "  \"If at first you don't succeed, sky diving is not for you!\",\n",
    "  \"Doctor you've got you help me, I'm addicted to twitter. Doctor: I don't follow you.\",\n",
    "  'A quick shoutout to all of the sidewalks out there... Thanks for keeping me off the streets.',\n",
    "  'I have kleptomania, but when it gets bad, I take something for it.',\n",
    "  'What do you call an old snowman? Water.',\n",
    "  \"My pet mouse 'Elvis' died last night. He was caught in a trap..\",\n",
    "  \"Don't trust atoms. They make up everything.\"\n",
    "]"
   ]
  },
  {
   "cell_type": "code",
   "execution_count": 9,
   "metadata": {},
   "outputs": [
    {
     "name": "stdout",
     "output_type": "stream",
     "text": [
      "inserted comment for Earthy Sapien, What is a vampire's favorite fruit? A blood orange.\n",
      "inserted comment for Earthy Sapien, What is a vampire's favorite fruit? A blood orange.\n",
      "inserted comment for Earthy Sapien, Have you heard about the film \"Constipation\", you probably haven't because it's not out yet.\n",
      "inserted comment for Earthy Sapien, Have you heard about the film \"Constipation\", you probably haven't because it's not out yet.\n",
      "inserted comment for Earthy Sapien, Did you hear about the cow who jumped over the barbed wire fence? It was udder destruction.\n",
      "inserted comment for Earthy Sapien, Did you hear about the cow who jumped over the barbed wire fence? It was udder destruction.\n",
      "inserted comment for Earthy Sapien, Every machine in the coin factory broke down all of a sudden without explanation. It just doesn’t make any cents.\n",
      "inserted comment for Earthy Sapien, Every machine in the coin factory broke down all of a sudden without explanation. It just doesn’t make any cents.\n",
      "inserted comment for Earthy Sapien, What do you do when you see a space man?\n",
      "Park your car, man.\n",
      "inserted comment for Earthy Sapien, What do you do when you see a space man?\n",
      "Park your car, man.\n",
      "inserted comment for Earthy Sapien, Q: What did the spaghetti say to the other spaghetti?\n",
      "A: Pasta la vista, baby!\n",
      "inserted comment for Earthy Sapien, Q: What did the spaghetti say to the other spaghetti?\n",
      "A: Pasta la vista, baby!\n",
      "inserted comment for Earthy Sapien, I'll tell you what often gets over looked... garden fences.\n",
      "inserted comment for Earthy Sapien, I'll tell you what often gets over looked... garden fences.\n",
      "inserted comment for Earthy Sapien, How many kids with ADD does it take to change a lightbulb? Let's go ride bikes!\n",
      "inserted comment for Earthy Sapien, How many kids with ADD does it take to change a lightbulb? Let's go ride bikes!\n",
      "inserted comment for Earthy Sapien, How do you get two whales in a car? Start in England and drive West.\n",
      "inserted comment for Earthy Sapien, How do you get two whales in a car? Start in England and drive West.\n",
      "inserted comment for Earthy Sapien, What did the traffic light say to the car as it passed? Dont look I m changing!\n",
      "inserted comment for Earthy Sapien, What did the traffic light say to the car as it passed? Dont look I m changing!\n",
      "inserted comment for Earthy Sapien, How many bones are in the human hand? A handful of them.\n",
      "inserted comment for Earthy Sapien, How many bones are in the human hand? A handful of them.\n",
      "inserted comment for Earthy Sapien, What is the best way to carve?\n",
      "Whittle by whittle.\n",
      "inserted comment for Earthy Sapien, What is the best way to carve?\n",
      "Whittle by whittle.\n",
      "inserted comment for Earthy Sapien, What kind of tree fits in your hand? A palm tree!\n",
      "inserted comment for Earthy Sapien, What kind of tree fits in your hand? A palm tree!\n",
      "inserted comment for Earthy Sapien, What's the best thing about elevator jokes? They work on so many levels.\n",
      "inserted comment for Earthy Sapien, What's the best thing about elevator jokes? They work on so many levels.\n",
      "inserted comment for Earthy Sapien, I asked the surgeon if I could administer my own a…sthetic, they said: go ahead, knock yourself out.\n",
      "inserted comment for Earthy Sapien, I asked the surgeon if I could administer my own a…sthetic, they said: go ahead, knock yourself out.\n",
      "inserted comment for Earthy Sapien, I used to work for an origami company but they folded.\n",
      "inserted comment for Earthy Sapien, I used to work for an origami company but they folded.\n",
      "inserted comment for Earthy Sapien, What do you call a nervous javelin thrower? Shakespeare.\n",
      "inserted comment for Earthy Sapien, What do you call a nervous javelin thrower? Shakespeare.\n",
      "inserted comment for Earthy Sapien, How does a scientist freshen their breath? With experi-mints!\n",
      "inserted comment for Earthy Sapien, How does a scientist freshen their breath? With experi-mints!\n",
      "inserted comment for Earthy Sapien, If you think swimming with dolphins is expensive, …wimming with sharks--it cost me an arm and a leg!\n",
      "inserted comment for Earthy Sapien, If you think swimming with dolphins is expensive, …wimming with sharks--it cost me an arm and a leg!\n",
      "inserted comment for Earthy Sapien, Why did the fireman wear red, white, and blue suspenders? To hold his pants up.\n",
      "inserted comment for Earthy Sapien, Why did the fireman wear red, white, and blue suspenders? To hold his pants up.\n",
      "inserted comment for Earthy Sapien, I started a new business making yachts in my attic this year...the sails are going through the roof\n",
      "inserted comment for Earthy Sapien, I started a new business making yachts in my attic this year...the sails are going through the roof\n",
      "inserted comment for Earthy Sapien, Whiteboards ... are remarkable.\n",
      "inserted comment for Earthy Sapien, Whiteboards ... are remarkable.\n",
      "inserted comment for Earthy Sapien, Dad, I'm cold.\n",
      "inserted comment for Earthy Sapien, Dad, I'm cold.\n",
      "inserted comment for Earthy Sapien, Go stand in the corner, I hear it's 90 degrees.\n",
      "inserted comment for Earthy Sapien, Go stand in the corner, I hear it's 90 degrees.\n",
      "inserted comment for Earthy Sapien, Why should you never trust a pig with a secret? Because it's bound to squeal.\n",
      "inserted comment for Earthy Sapien, Why should you never trust a pig with a secret? Because it's bound to squeal.\n",
      "inserted comment for Earthy Sapien, What’s the longest word in the dictionary? Smiles. Because there’s a mile between the two S’s.\n",
      "inserted comment for Earthy Sapien, What’s the longest word in the dictionary? Smiles. Because there’s a mile between the two S’s.\n",
      "inserted comment for Earthy Sapien, What concert costs only 45 cents? 50 cent featuring Nickelback.\n",
      "inserted comment for Earthy Sapien, What concert costs only 45 cents? 50 cent featuring Nickelback.\n",
      "inserted comment for Earthy Sapien, I have the heart of a lion... and a lifetime ban from the San Diego Zoo.\n",
      "inserted comment for Earthy Sapien, I have the heart of a lion... and a lifetime ban from the San Diego Zoo.\n",
      "inserted comment for Earthy Sapien, I couldn't figure out how the seat belt worked. Then it just clicked.\n",
      "inserted comment for Earthy Sapien, I couldn't figure out how the seat belt worked. Then it just clicked.\n",
      "inserted comment for Earthy Sapien, Hear about the new restaurant called Karma? There’s no menu: You get what you deserve.\n",
      "inserted comment for Earthy Sapien, Hear about the new restaurant called Karma? There’s no menu: You get what you deserve.\n",
      "inserted comment for Earthy Sapien, You will never guess what Elsa did to the balloon. She let it go.\n",
      "inserted comment for Earthy Sapien, You will never guess what Elsa did to the balloon. She let it go.\n",
      "inserted comment for Earthy Sapien, Why did the barber win the race? He took a short cut.\n"
     ]
    },
    {
     "ename": "HttpError",
     "evalue": "<HttpError 403 when requesting https://youtube.googleapis.com/youtube/v3/commentThreads?part=snippet&alt=json returned \"The request cannot be completed because you have exceeded your <a href=\"/youtube/v3/getting-started#quota\">quota</a>.\". Details: \"[{'message': 'The request cannot be completed because you have exceeded your <a href=\"/youtube/v3/getting-started#quota\">quota</a>.', 'domain': 'youtube.quota', 'reason': 'quotaExceeded'}]\">",
     "output_type": "error",
     "traceback": [
      "\u001b[1;31m---------------------------------------------------------------------------\u001b[0m",
      "\u001b[1;31mHttpError\u001b[0m                                 Traceback (most recent call last)",
      "\u001b[1;32m<ipython-input-9-3612db6a5d7e>\u001b[0m in \u001b[0;36m<module>\u001b[1;34m\u001b[0m\n\u001b[0;32m      1\u001b[0m \u001b[1;32mfor\u001b[0m \u001b[0mi\u001b[0m \u001b[1;32min\u001b[0m \u001b[0mcomments\u001b[0m\u001b[1;33m:\u001b[0m\u001b[1;33m\u001b[0m\u001b[1;33m\u001b[0m\u001b[0m\n\u001b[0;32m      2\u001b[0m     \u001b[0minsert_comment\u001b[0m\u001b[1;33m(\u001b[0m\u001b[0myoutube\u001b[0m\u001b[1;33m,\u001b[0m\u001b[1;34m'41rxEox_JeE'\u001b[0m\u001b[1;33m,\u001b[0m\u001b[0mi\u001b[0m\u001b[1;33m)\u001b[0m\u001b[1;33m\u001b[0m\u001b[1;33m\u001b[0m\u001b[0m\n\u001b[1;32m----> 3\u001b[1;33m     \u001b[0minsert_comment\u001b[0m\u001b[1;33m(\u001b[0m\u001b[0myoutube\u001b[0m\u001b[1;33m,\u001b[0m\u001b[1;34m'-kADgKnaViY'\u001b[0m\u001b[1;33m,\u001b[0m\u001b[0mi\u001b[0m\u001b[1;33m)\u001b[0m\u001b[1;33m\u001b[0m\u001b[1;33m\u001b[0m\u001b[0m\n\u001b[0m",
      "\u001b[1;32m<ipython-input-4-97d836275abc>\u001b[0m in \u001b[0;36minsert_comment\u001b[1;34m(youtube, video_id, text)\u001b[0m\n\u001b[0;32m      1\u001b[0m \u001b[1;32mdef\u001b[0m \u001b[0minsert_comment\u001b[0m\u001b[1;33m(\u001b[0m\u001b[0myoutube\u001b[0m\u001b[1;33m,\u001b[0m\u001b[0mvideo_id\u001b[0m\u001b[1;33m,\u001b[0m\u001b[0mtext\u001b[0m\u001b[1;33m)\u001b[0m\u001b[1;33m:\u001b[0m\u001b[1;33m\u001b[0m\u001b[1;33m\u001b[0m\u001b[0m\n\u001b[1;32m----> 2\u001b[1;33m     insert_result = youtube.commentThreads().insert(\n\u001b[0m\u001b[0;32m      3\u001b[0m         \u001b[0mpart\u001b[0m\u001b[1;33m=\u001b[0m\u001b[1;34m\"snippet\"\u001b[0m\u001b[1;33m,\u001b[0m\u001b[1;33m\u001b[0m\u001b[1;33m\u001b[0m\u001b[0m\n\u001b[0;32m      4\u001b[0m         body={\n\u001b[0;32m      5\u001b[0m           \"snippet\": {\n",
      "\u001b[1;32mc:\\users\\prince\\appdata\\local\\programs\\python\\python39\\lib\\site-packages\\googleapiclient\\_helpers.py\u001b[0m in \u001b[0;36mpositional_wrapper\u001b[1;34m(*args, **kwargs)\u001b[0m\n\u001b[0;32m    132\u001b[0m                 \u001b[1;32melif\u001b[0m \u001b[0mpositional_parameters_enforcement\u001b[0m \u001b[1;33m==\u001b[0m \u001b[0mPOSITIONAL_WARNING\u001b[0m\u001b[1;33m:\u001b[0m\u001b[1;33m\u001b[0m\u001b[1;33m\u001b[0m\u001b[0m\n\u001b[0;32m    133\u001b[0m                     \u001b[0mlogger\u001b[0m\u001b[1;33m.\u001b[0m\u001b[0mwarning\u001b[0m\u001b[1;33m(\u001b[0m\u001b[0mmessage\u001b[0m\u001b[1;33m)\u001b[0m\u001b[1;33m\u001b[0m\u001b[1;33m\u001b[0m\u001b[0m\n\u001b[1;32m--> 134\u001b[1;33m             \u001b[1;32mreturn\u001b[0m \u001b[0mwrapped\u001b[0m\u001b[1;33m(\u001b[0m\u001b[1;33m*\u001b[0m\u001b[0margs\u001b[0m\u001b[1;33m,\u001b[0m \u001b[1;33m**\u001b[0m\u001b[0mkwargs\u001b[0m\u001b[1;33m)\u001b[0m\u001b[1;33m\u001b[0m\u001b[1;33m\u001b[0m\u001b[0m\n\u001b[0m\u001b[0;32m    135\u001b[0m \u001b[1;33m\u001b[0m\u001b[0m\n\u001b[0;32m    136\u001b[0m         \u001b[1;32mreturn\u001b[0m \u001b[0mpositional_wrapper\u001b[0m\u001b[1;33m\u001b[0m\u001b[1;33m\u001b[0m\u001b[0m\n",
      "\u001b[1;32mc:\\users\\prince\\appdata\\local\\programs\\python\\python39\\lib\\site-packages\\googleapiclient\\http.py\u001b[0m in \u001b[0;36mexecute\u001b[1;34m(self, http, num_retries)\u001b[0m\n\u001b[0;32m    933\u001b[0m             \u001b[0mcallback\u001b[0m\u001b[1;33m(\u001b[0m\u001b[0mresp\u001b[0m\u001b[1;33m)\u001b[0m\u001b[1;33m\u001b[0m\u001b[1;33m\u001b[0m\u001b[0m\n\u001b[0;32m    934\u001b[0m         \u001b[1;32mif\u001b[0m \u001b[0mresp\u001b[0m\u001b[1;33m.\u001b[0m\u001b[0mstatus\u001b[0m \u001b[1;33m>=\u001b[0m \u001b[1;36m300\u001b[0m\u001b[1;33m:\u001b[0m\u001b[1;33m\u001b[0m\u001b[1;33m\u001b[0m\u001b[0m\n\u001b[1;32m--> 935\u001b[1;33m             \u001b[1;32mraise\u001b[0m \u001b[0mHttpError\u001b[0m\u001b[1;33m(\u001b[0m\u001b[0mresp\u001b[0m\u001b[1;33m,\u001b[0m \u001b[0mcontent\u001b[0m\u001b[1;33m,\u001b[0m \u001b[0muri\u001b[0m\u001b[1;33m=\u001b[0m\u001b[0mself\u001b[0m\u001b[1;33m.\u001b[0m\u001b[0muri\u001b[0m\u001b[1;33m)\u001b[0m\u001b[1;33m\u001b[0m\u001b[1;33m\u001b[0m\u001b[0m\n\u001b[0m\u001b[0;32m    936\u001b[0m         \u001b[1;32mreturn\u001b[0m \u001b[0mself\u001b[0m\u001b[1;33m.\u001b[0m\u001b[0mpostproc\u001b[0m\u001b[1;33m(\u001b[0m\u001b[0mresp\u001b[0m\u001b[1;33m,\u001b[0m \u001b[0mcontent\u001b[0m\u001b[1;33m)\u001b[0m\u001b[1;33m\u001b[0m\u001b[1;33m\u001b[0m\u001b[0m\n\u001b[0;32m    937\u001b[0m \u001b[1;33m\u001b[0m\u001b[0m\n",
      "\u001b[1;31mHttpError\u001b[0m: <HttpError 403 when requesting https://youtube.googleapis.com/youtube/v3/commentThreads?part=snippet&alt=json returned \"The request cannot be completed because you have exceeded your <a href=\"/youtube/v3/getting-started#quota\">quota</a>.\". Details: \"[{'message': 'The request cannot be completed because you have exceeded your <a href=\"/youtube/v3/getting-started#quota\">quota</a>.', 'domain': 'youtube.quota', 'reason': 'quotaExceeded'}]\">"
     ]
    }
   ],
   "source": [
    "for i in comments:\n",
    "    insert_comment(youtube,'41rxEox_JeE',i)\n",
    "    insert_comment(youtube,'-kADgKnaViY',i)    "
   ]
  },
  {
   "cell_type": "code",
   "execution_count": 10,
   "metadata": {},
   "outputs": [
    {
     "data": {
      "text/plain": [
       "68"
      ]
     },
     "execution_count": 10,
     "metadata": {},
     "output_type": "execute_result"
    }
   ],
   "source": [
    "len(comments)"
   ]
  },
  {
   "cell_type": "code",
   "execution_count": null,
   "metadata": {},
   "outputs": [],
   "source": []
  }
 ],
 "metadata": {
  "kernelspec": {
   "display_name": "Python 3",
   "language": "python",
   "name": "python3"
  },
  "language_info": {
   "codemirror_mode": {
    "name": "ipython",
    "version": 3
   },
   "file_extension": ".py",
   "mimetype": "text/x-python",
   "name": "python",
   "nbconvert_exporter": "python",
   "pygments_lexer": "ipython3",
   "version": "3.9.0"
  }
 },
 "nbformat": 4,
 "nbformat_minor": 4
}
