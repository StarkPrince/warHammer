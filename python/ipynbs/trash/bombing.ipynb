{
 "cells": [
  {
   "cell_type": "code",
   "execution_count": 1,
   "metadata": {},
   "outputs": [],
   "source": [
    "from apiclient.discovery import build\n",
    "from google_auth_oauthlib.flow import InstalledAppFlow"
   ]
  },
  {
   "cell_type": "code",
   "execution_count": 2,
   "metadata": {},
   "outputs": [],
   "source": [
    "client_secret_file = 'client_secret_59553033659-d1hci9nc0ge2i5bcr9946qrunelsgm9j.apps.googleusercontent.com.json'\n",
    "Scopes = ['https://www.googleapis.com/auth/youtube.force-ssl']"
   ]
  },
  {
   "cell_type": "code",
   "execution_count": 3,
   "metadata": {},
   "outputs": [
    {
     "name": "stdout",
     "output_type": "stream",
     "text": [
      "Please visit this URL to authorize this application: https://accounts.google.com/o/oauth2/auth?response_type=code&client_id=59553033659-d1hci9nc0ge2i5bcr9946qrunelsgm9j.apps.googleusercontent.com&redirect_uri=urn%3Aietf%3Awg%3Aoauth%3A2.0%3Aoob&scope=https%3A%2F%2Fwww.googleapis.com%2Fauth%2Fyoutube.force-ssl&state=nvRduPQXD5MM2uEWE88rwz4U2VMwZl&prompt=consent&access_type=offline\n",
      "Enter the authorization code: 4/1AX4XfWhpJD61x7-fYAmGCS_KV7dc2RkE1eh8LQYb2aD5nzCkxvbBaJFU4vY\n"
     ]
    }
   ],
   "source": [
    "flow = InstalledAppFlow.from_client_secrets_file(client_secret_file,Scopes)\n",
    "credentials = flow.run_console()\n",
    "youtube = build('youtube','v3',credentials=credentials)"
   ]
  },
  {
   "cell_type": "code",
   "execution_count": 4,
   "metadata": {},
   "outputs": [],
   "source": [
    "def insert_comment(youtube,video_id,text):\n",
    "    insert_result = youtube.commentThreads().insert(\n",
    "        part=\"snippet\",\n",
    "        body={\n",
    "          \"snippet\": {\n",
    "            \"videoId\": video_id,\n",
    "            \"topLevelComment\": {\n",
    "              \"snippet\": {\n",
    "                \"textOriginal\": text\n",
    "              }\n",
    "            }\n",
    "          }\n",
    "        }\n",
    "    ).execute()\n",
    "\n",
    "    comment = insert_result[\"snippet\"][\"topLevelComment\"]\n",
    "    author = comment[\"snippet\"][\"authorDisplayName\"]\n",
    "    text = comment[\"snippet\"][\"textDisplay\"]\n",
    "    print(f\"inserted comment for {author}, {text}\")"
   ]
  },
  {
   "cell_type": "code",
   "execution_count": 5,
   "metadata": {},
   "outputs": [],
   "source": [
    "def like(vid_id):\n",
    "    request = youtube.videos().rate(\n",
    "        id=vid_id,\n",
    "        rating=\"like\"\n",
    "    )\n",
    "    request.execute()"
   ]
  },
  {
   "cell_type": "code",
   "execution_count": 23,
   "metadata": {},
   "outputs": [],
   "source": [
    "comments = [\n",
    "        \"What is a vampire's favorite fruit? A blood orange.\",\n",
    "    \"Have you heard about the film \\\"Constipation\\\", you probably haven't because it's not out yet.\",\n",
    "    \"Did you hear about the cow who jumped over the barbed wire fence? It was udder destruction.\",\n",
    "    \"Every machine in the coin factory broke down all of a sudden without explanation. It just doesn’t make any cents.\",\n",
    "    \"What do you do when you see a space man?\\r\\nPark your car, man.\",\n",
    "    'Q: What did the spaghetti say to the other spaghetti?\\r\\nA: Pasta la vista, baby!',\n",
    "      \"I'll tell you what often gets over looked... garden fences.\",\n",
    "  \"How many kids with ADD does it take to change a lightbulb? Let's go ride bikes!\",\n",
    "  'How do you get two whales in a car? Start in England and drive West.',\n",
    "  \"What did the traffic light say to the car as it passed? Dont look I m changing!\",\n",
    "  'How many bones are in the human hand? A handful of them.',\n",
    "  'What is the best way to carve?\\r\\nWhittle by whittle.',\n",
    "  'What kind of tree fits in your hand? A palm tree!',\n",
    "  \"What's the best thing about elevator jokes? They work on so many levels.\",\n",
    "  'I asked the surgeon if I could administer my own a…sthetic, they said: go ahead, knock yourself out.',\n",
    "  'I used to work for an origami company but they folded.',\n",
    "  'What do you call a nervous javelin thrower? Shakespeare.',\n",
    "  'How does a scientist freshen their breath? With experi-mints!',\n",
    "  'If you think swimming with dolphins is expensive, …wimming with sharks--it cost me an arm and a leg!',\n",
    "  'Why did the fireman wear red, white, and blue suspenders? To hold his pants up.',\n",
    "  'I started a new business making yachts in my attic this year...the sails are going through the roof',\n",
    "  'Whiteboards ... are remarkable.',\n",
    "    \"Dad, I'm cold.\",\n",
    "  \"Go stand in the corner, I hear it's 90 degrees.\",\n",
    "  \"Why should you never trust a pig with a secret? Because it's bound to squeal.\",\n",
    "  'What’s the longest word in the dictionary? Smiles. Because there’s a mile between the two S’s.',\n",
    "  'What concert costs only 45 cents? 50 cent featuring Nickelback.',\n",
    "  'I have the heart of a lion... and a lifetime ban from the San Diego Zoo.',\n",
    "  \"I couldn't figure out how the seat belt worked. Then it just clicked.\",\n",
    "  'Hear about the new restaurant called Karma? There’s no menu: You get what you deserve.',\n",
    "  'You will never guess what Elsa did to the balloon. She let it go.',\n",
    "  'Why did the barber win the race? He took a short cut.',\n",
    "  \"People who don't eat gluten are really going against the grain.\",\n",
    "  \"It's only a murder of crows if there's probable caws.\",\n",
    "  \"Never Trust Someone With Graph Paper...\\r\\n\\r\\nThey're always plotting something.\",\n",
    "  'Why did the cookie cry? It was feeling crumby.',\n",
    "  \"What is bread's favorite number?  Leaven.\",\n",
    "  'Just read a few facts about frogs. They were ribbiting.',\n",
    "  'When Dad drops a pea off of his plate ‘oh dear I’ve pee’d on the table!',\n",
    "  'Milk is also the fastest liquid on earth – its pasteurized before you even see it',\n",
    "  'Where does Napoleon keep his armies? In his sleevies.',\n",
    "  'I just read a book about Stockholm syndrome. It was pretty bad at first, but by the end I liked it.',\n",
    "  'I used to hate facial hair, but then it grew on me.',\n",
    "  'Two muffins were sitting in an oven, and the first…ised look, and answers, “WHOA, a talking muffin!”',\n",
    "  'What do you get hanging from Apple trees? Sore arms.',\n",
    "  'How do the trees get on the internet? They log on.',\n",
    "  'Did you hear about the runner who was criticized? He just took it in stride',\n",
    "  'Why do pumpkins sit on people’s porches?\\r\\n\\r\\nThey have no hands to knock on the door.',\n",
    "  \"When will the little snake arrive? I don't know but he won't be long...\",\n",
    "  'Who is the coolest Doctor in the hospital? The hip Doctor!',\n",
    "  'I was just looking at my ceiling. Not sure if it’s…iling in the world, but it’s definitely up there.',\n",
    "  'What do you call a troublesome Canadian high schooler? A poutine.',\n",
    "  'I needed a password eight characters long so I picked Snow White and the Seven Dwarfs.',\n",
    "  'Thanks for explaining the word \"many\" to me. It means a lot.',\n",
    "  'Two fish are in a tank, one turns to the other and says, \"how do you drive this thing?\"',\n",
    "  'A butcher accidentally backed into his meat grinder and got a little behind in his work that day.',\n",
    "  'How many apples grow on a tree? All of them!',\n",
    "  'How do you tell the difference between a crocodile…gator? You will see one later and one in a while.',\n",
    "  \"Did you hear about the guy whose whole left side was cut off? He's all right now.\",\n",
    "  'I was going to get a brain transplant, but I changed my mind',\n",
    "  'Did you hear the one about the guy with the broken hearing aid? Neither did he.',\n",
    "  \"If at first you don't succeed, sky diving is not for you!\",\n",
    "  \"Doctor you've got you help me, I'm addicted to twitter. Doctor: I don't follow you.\",\n",
    "  'A quick shoutout to all of the sidewalks out there... Thanks for keeping me off the streets.',\n",
    "  'I have kleptomania, but when it gets bad, I take something for it.',\n",
    "  'What do you call an old snowman? Water.',\n",
    "  \"My pet mouse 'Elvis' died last night. He was caught in a trap..\",\n",
    "  \"Don't trust atoms. They make up everything.\"\n",
    "]"
   ]
  },
  {
   "cell_type": "code",
   "execution_count": 1,
   "metadata": {},
   "outputs": [],
   "source": [
    "import time \n",
    "start = time.time()\n",
    "for i in range(100):\n",
    "    insert_comment(youtube,'BOPH_H3W9SE',cnt)\n",
    "    time.sleep(20)\n",
    "    print(i,end = \" \")"
   ]
  },
  {
   "cell_type": "code",
   "execution_count": 7,
   "metadata": {},
   "outputs": [],
   "source": [
    "# for i in range(50):\n",
    "#     insert_comment(youtube,'hzVGMuqVDB4',\"Arcane was definately the best anime and dune in cinematography, I don't care what others say :)\") "
   ]
  },
  {
   "cell_type": "code",
   "execution_count": 13,
   "metadata": {},
   "outputs": [],
   "source": [
    "cnt = \"\"\"Thanks you Babbar Bhaiya for the course, I am in third year, i wish this course was available in my 1st year, some of the video has really touched indepth concepts. Haven't seen such a free course before.\n",
    "        Regards: rajprince1608\"\"\""
   ]
  },
  {
   "cell_type": "code",
   "execution_count": null,
   "metadata": {},
   "outputs": [],
   "source": [
    "CLIENT_SECRETS_FILE = \"client_secret.json\" # for more information  to create your credentials json please visit https://python.gotrained.com/youtube-api-extracting-comments/\n",
    "SCOPES = ['https://www.googleapis.com/auth/youtube.force-ssl']\n",
    "API_SERVICE_NAME = 'youtube'\n",
    "API_VERSION = 'v3'\n",
    "\n",
    "def get_authenticated_service():\n",
    "    credentials = None\n",
    "    if os.path.exists('token.pickle'):\n",
    "        with open('token.pickle', 'rb') as token:\n",
    "            credentials = pickle.load(token)\n",
    "    #  Check if the credentials are invalid or do not exist\n",
    "    if not credentials or not credentials.valid:\n",
    "        # Check if the credentials have expired\n",
    "        if credentials and credentials.expired and credentials.refresh_token:\n",
    "            credentials.refresh(Request())\n",
    "        else:\n",
    "            flow = InstalledAppFlow.from_client_secrets_file(\n",
    "                CLIENT_SECRETS_FILE, SCOPES)\n",
    "            credentials = flow.run_console()\n",
    "\n",
    "        # Save the credentials for the next run\n",
    "        with open('token.pickle', 'wb') as token:\n",
    "            pickle.dump(credentials, token)\n",
    "\n",
    "    return build(API_SERVICE_NAME, API_VERSION, credentials = credentials)\n",
    "\n",
    "def get_video_comments(service, **kwargs):\n",
    "    comments = []\n",
    "    results = service.commentThreads().list(**kwargs).execute()\n",
    "    while results:\n",
    "        for item in results['items']:\n",
    "            comment = item['snippet']['topLevelComment']['snippet']['textDisplay']\n",
    "            comments.append(comment)\n",
    "        # Check if another page exists\n",
    "        if 'nextPageToken' in results:\n",
    "            kwargs['pageToken'] = results['nextPageToken']\n",
    "            results = service.commentThreads().list(**kwargs).execute()\n",
    "        else:\n",
    "            break\n",
    "\n",
    "    return comments\n",
    "\n",
    "\n",
    "if __name__ == '__main__':\n",
    "    # When running locally, disable OAuthlib's HTTPs verification. When\n",
    "    # running in production *do not* leave this option enabled.\n",
    "    os.environ['OAUTHLIB_INSECURE_TRANSPORT'] = '1'\n",
    "    service = get_authenticated_service()\n",
    "    videoId = input('Enter Video id : ') # video id here (the video id of https://www.youtube.com/watch?v=vedLpKXzZqE -> is vedLpKXzZqE)\n",
    "    comments = get_video_comments(service, part='snippet', videoId=videoId, textFormat='plainText')\n",
    "\n",
    "print(len(comments),comments)"
   ]
  }
 ],
 "metadata": {
  "kernelspec": {
   "display_name": "Python 3",
   "language": "python",
   "name": "python3"
  },
  "language_info": {
   "codemirror_mode": {
    "name": "ipython",
    "version": 3
   },
   "file_extension": ".py",
   "mimetype": "text/x-python",
   "name": "python",
   "nbconvert_exporter": "python",
   "pygments_lexer": "ipython3",
   "version": "3.9.0"
  }
 },
 "nbformat": 4,
 "nbformat_minor": 4
}
