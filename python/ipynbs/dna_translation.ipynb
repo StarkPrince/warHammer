{
 "cells": [
  {
   "cell_type": "code",
   "execution_count": 41,
   "metadata": {},
   "outputs": [],
   "source": [
    "def tanslate(s):\n",
    "    table = { \n",
    "            'ATA':'I', 'ATC':'I', 'ATT':'I', 'ATG':'M', \n",
    "            'ACA':'T', 'ACC':'T', 'ACG':'T', 'ACT':'T', \n",
    "            'AAC':'N', 'AAT':'N', 'AAA':'K', 'AAG':'K', \n",
    "            'AGC':'S', 'AGT':'S', 'AGA':'R', 'AGG':'R',                  \n",
    "            'CTA':'L', 'CTC':'L', 'CTG':'L', 'CTT':'L', \n",
    "            'CCA':'P', 'CCC':'P', 'CCG':'P', 'CCT':'P', \n",
    "            'CAC':'H', 'CAT':'H', 'CAA':'Q', 'CAG':'Q', \n",
    "            'CGA':'R', 'CGC':'R', 'CGG':'R', 'CGT':'R', \n",
    "            'GTA':'V', 'GTC':'V', 'GTG':'V', 'GTT':'V', \n",
    "            'GCA':'A', 'GCC':'A', 'GCG':'A', 'GCT':'A', \n",
    "            'GAC':'D', 'GAT':'D', 'GAA':'E', 'GAG':'E', \n",
    "            'GGA':'G', 'GGC':'G', 'GGG':'G', 'GGT':'G', \n",
    "            'TCA':'S', 'TCC':'S', 'TCG':'S', 'TCT':'S', \n",
    "            'TTC':'F', 'TTT':'F', 'TTA':'L', 'TTG':'L', \n",
    "            'TAC':'Y', 'TAT':'Y', 'TAA':'_', 'TAG':'_', \n",
    "            'TGC':'C', 'TGT':'C', 'TGA':'_', 'TGG':'W', \n",
    "        }\n",
    "    protein = \"\"\n",
    "    for i in range(0,len(s)//3):\n",
    "        codon = s[3*i:3*i+3]\n",
    "        protein += table[codon]\n",
    "    return protein"
   ]
  },
  {
   "cell_type": "code",
   "execution_count": 43,
   "metadata": {},
   "outputs": [
    {
     "data": {
      "text/plain": [
       "'GQKKPSPCLLTIHP_KPLRKWLFRSSCFASLGLGLLPMYFSLSIISLQSRLVLNRGPDK_F_DTWLWPMP_LSSSLYFQTT__LLLQLFLKLTSNVN_NSSLASWQEAQTCVQLVF_VSISLSHLFLLIQVKEYSEQVSQTWQVILVTVVGSSVS_ITSTFQLRSLVHS_QTITITLKASCSVPLLISV_ALSS_GLPMMPHS_ASWSGPVSPWYFSSIDIVRECSTYSLSIRTPGAKQRPQQPILS_CW_SHLLAFIF_VLFVSSFTPILYILIIP_GIAMTFWFRVSLQFLLYC_PSETLRVLVLCSSTVESQSH_KCQTQKTALLIPLNTLFHKYVFKSLYEQGMVLTAILIKE_GYNHLLI_KDFWLESD_NSELFTTLHS'"
      ]
     },
     "execution_count": 43,
     "metadata": {},
     "output_type": "execute_result"
    }
   ],
   "source": [
    "p = open(\"dna.txt\",\"r\").read()\n",
    "p = p.replace(\"\\n\",\"\")\n",
    "p = p.replace(\"\\r\",\"\")\n",
    "tanslate(p)"
   ]
  },
  {
   "cell_type": "code",
   "execution_count": null,
   "metadata": {},
   "outputs": [],
   "source": []
  }
 ],
 "metadata": {
  "kernelspec": {
   "display_name": "Python 3",
   "language": "python",
   "name": "python3"
  },
  "language_info": {
   "codemirror_mode": {
    "name": "ipython",
    "version": 3
   },
   "file_extension": ".py",
   "mimetype": "text/x-python",
   "name": "python",
   "nbconvert_exporter": "python",
   "pygments_lexer": "ipython3",
   "version": "3.8.2"
  }
 },
 "nbformat": 4,
 "nbformat_minor": 4
}
