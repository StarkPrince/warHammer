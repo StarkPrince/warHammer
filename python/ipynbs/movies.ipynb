{
 "cells": [
  {
   "cell_type": "code",
   "execution_count": 15,
   "id": "05eabc3d",
   "metadata": {},
   "outputs": [],
   "source": [
    "import pandas as pd\n",
    "import matplotlib.pyplot as plt\n",
    "import seaborn as sns"
   ]
  },
  {
   "cell_type": "code",
   "execution_count": 16,
   "id": "8e94f938",
   "metadata": {},
   "outputs": [],
   "source": [
    "seen = pd.read_csv(\"trakt-exported-history.csv\")\n",
    "watchlist = pd.read_csv(\"trakt-exported-watchlist.csv\")"
   ]
  },
  {
   "cell_type": "code",
   "execution_count": 17,
   "id": "c67a009d",
   "metadata": {},
   "outputs": [],
   "source": [
    "seen['WatchedDate'] = pd.to_datetime(seen['WatchedDate']).dt.date"
   ]
  },
  {
   "cell_type": "code",
   "execution_count": 18,
   "id": "2074987d",
   "metadata": {},
   "outputs": [],
   "source": [
    "seen = seen.drop([\"tmdbID\",\"imdbID\"],axis=1)"
   ]
  },
  {
   "cell_type": "code",
   "execution_count": 19,
   "id": "04c2b17a",
   "metadata": {},
   "outputs": [],
   "source": [
    "z = seen[\"Title\"]"
   ]
  },
  {
   "cell_type": "code",
   "execution_count": 20,
   "id": "432892d7",
   "metadata": {},
   "outputs": [
    {
     "data": {
      "text/html": [
       "<div>\n",
       "<style scoped>\n",
       "    .dataframe tbody tr th:only-of-type {\n",
       "        vertical-align: middle;\n",
       "    }\n",
       "\n",
       "    .dataframe tbody tr th {\n",
       "        vertical-align: top;\n",
       "    }\n",
       "\n",
       "    .dataframe thead th {\n",
       "        text-align: right;\n",
       "    }\n",
       "</style>\n",
       "<table border=\"1\" class=\"dataframe\">\n",
       "  <thead>\n",
       "    <tr style=\"text-align: right;\">\n",
       "      <th></th>\n",
       "      <th>WatchedDate</th>\n",
       "      <th>Year</th>\n",
       "    </tr>\n",
       "  </thead>\n",
       "  <tbody>\n",
       "    <tr>\n",
       "      <th>0</th>\n",
       "      <td>2021-11-06</td>\n",
       "      <td>2018.0</td>\n",
       "    </tr>\n",
       "    <tr>\n",
       "      <th>1</th>\n",
       "      <td>2021-11-06</td>\n",
       "      <td>2021.0</td>\n",
       "    </tr>\n",
       "    <tr>\n",
       "      <th>2</th>\n",
       "      <td>2021-11-06</td>\n",
       "      <td>2021.0</td>\n",
       "    </tr>\n",
       "    <tr>\n",
       "      <th>3</th>\n",
       "      <td>2021-10-30</td>\n",
       "      <td>2021.0</td>\n",
       "    </tr>\n",
       "    <tr>\n",
       "      <th>4</th>\n",
       "      <td>2021-10-28</td>\n",
       "      <td>2013.0</td>\n",
       "    </tr>\n",
       "  </tbody>\n",
       "</table>\n",
       "</div>"
      ],
      "text/plain": [
       "  WatchedDate    Year\n",
       "0  2021-11-06  2018.0\n",
       "1  2021-11-06  2021.0\n",
       "2  2021-11-06  2021.0\n",
       "3  2021-10-30  2021.0\n",
       "4  2021-10-28  2013.0"
      ]
     },
     "execution_count": 20,
     "metadata": {},
     "output_type": "execute_result"
    }
   ],
   "source": [
    "seen.drop([\"Title\"],axis=1,inplace=True)\n",
    "seen.head()"
   ]
  },
  {
   "cell_type": "code",
   "execution_count": 21,
   "id": "815783d9",
   "metadata": {},
   "outputs": [],
   "source": [
    "seen.insert(2,\"Title\",z)"
   ]
  },
  {
   "cell_type": "code",
   "execution_count": 22,
   "id": "89711a6c",
   "metadata": {},
   "outputs": [
    {
     "data": {
      "text/html": [
       "<div>\n",
       "<style scoped>\n",
       "    .dataframe tbody tr th:only-of-type {\n",
       "        vertical-align: middle;\n",
       "    }\n",
       "\n",
       "    .dataframe tbody tr th {\n",
       "        vertical-align: top;\n",
       "    }\n",
       "\n",
       "    .dataframe thead th {\n",
       "        text-align: right;\n",
       "    }\n",
       "</style>\n",
       "<table border=\"1\" class=\"dataframe\">\n",
       "  <thead>\n",
       "    <tr style=\"text-align: right;\">\n",
       "      <th></th>\n",
       "      <th>WatchedDate</th>\n",
       "      <th>Year</th>\n",
       "      <th>Title</th>\n",
       "    </tr>\n",
       "  </thead>\n",
       "  <tbody>\n",
       "    <tr>\n",
       "      <th>0</th>\n",
       "      <td>2021-11-06</td>\n",
       "      <td>2018.0</td>\n",
       "      <td>Aravindha Sametha Veera Raghava</td>\n",
       "    </tr>\n",
       "    <tr>\n",
       "      <th>1</th>\n",
       "      <td>2021-11-06</td>\n",
       "      <td>2021.0</td>\n",
       "      <td>Sooryavanshi</td>\n",
       "    </tr>\n",
       "    <tr>\n",
       "      <th>2</th>\n",
       "      <td>2021-11-06</td>\n",
       "      <td>2021.0</td>\n",
       "      <td>Eternals</td>\n",
       "    </tr>\n",
       "    <tr>\n",
       "      <th>3</th>\n",
       "      <td>2021-10-30</td>\n",
       "      <td>2021.0</td>\n",
       "      <td>Sardar Udham</td>\n",
       "    </tr>\n",
       "    <tr>\n",
       "      <th>4</th>\n",
       "      <td>2021-10-28</td>\n",
       "      <td>2013.0</td>\n",
       "      <td>Madras Cafe</td>\n",
       "    </tr>\n",
       "  </tbody>\n",
       "</table>\n",
       "</div>"
      ],
      "text/plain": [
       "  WatchedDate    Year                            Title\n",
       "0  2021-11-06  2018.0  Aravindha Sametha Veera Raghava\n",
       "1  2021-11-06  2021.0                     Sooryavanshi\n",
       "2  2021-11-06  2021.0                         Eternals\n",
       "3  2021-10-30  2021.0                     Sardar Udham\n",
       "4  2021-10-28  2013.0                      Madras Cafe"
      ]
     },
     "execution_count": 22,
     "metadata": {},
     "output_type": "execute_result"
    }
   ],
   "source": [
    "seen.head()"
   ]
  },
  {
   "cell_type": "code",
   "execution_count": 23,
   "id": "8de64220",
   "metadata": {},
   "outputs": [],
   "source": [
    "seen.to_csv(\"seen_movies.csv\",index=False)"
   ]
  },
  {
   "cell_type": "code",
   "execution_count": null,
   "id": "76f88b83",
   "metadata": {},
   "outputs": [],
   "source": []
  }
 ],
 "metadata": {
  "kernelspec": {
   "display_name": "Python 3 (ipykernel)",
   "language": "python",
   "name": "python3"
  },
  "language_info": {
   "codemirror_mode": {
    "name": "ipython",
    "version": 3
   },
   "file_extension": ".py",
   "mimetype": "text/x-python",
   "name": "python",
   "nbconvert_exporter": "python",
   "pygments_lexer": "ipython3",
   "version": "3.9.8"
  }
 },
 "nbformat": 4,
 "nbformat_minor": 5
}
