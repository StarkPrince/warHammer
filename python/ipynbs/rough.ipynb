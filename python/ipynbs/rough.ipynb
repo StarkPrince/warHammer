{
 "cells": [
  {
   "cell_type": "code",
   "execution_count": 3,
   "metadata": {},
   "outputs": [],
   "source": [
    "import requests\n",
    "from bs4 import BeautifulSoup\n",
    "import time"
   ]
  },
  {
   "cell_type": "code",
   "execution_count": 4,
   "metadata": {},
   "outputs": [
    {
     "name": "stdout",
     "output_type": "stream",
     "text": [
      "3.9909582138061523\n"
     ]
    }
   ],
   "source": [
    "a = time.time()\n",
    "html = requests.get(\"https://trakt.tv/users/starkprince/history/shows/added\")\n",
    "print(time.time()-a)"
   ]
  },
  {
   "cell_type": "code",
   "execution_count": 5,
   "metadata": {},
   "outputs": [],
   "source": [
    "soup = BeautifulSoup(html.text,\"html.parser\")"
   ]
  },
  {
   "cell_type": "code",
   "execution_count": 6,
   "metadata": {},
   "outputs": [
    {
     "name": "stdout",
     "output_type": "stream",
     "text": [
      "2021-10-27 \t DC's Legends of Tomorrow\n",
      "2021-10-14 \t Masters of Sex\n",
      "2021-10-13 \t Dhindora\n",
      "2021-10-10 \t Supergirl\n",
      "2021-10-08 \t Another Life\n",
      "2021-09-29 \t Sherlock\n",
      "2021-09-26 \t Squid Game\n",
      "2021-09-26 \t The Office\n",
      "2021-09-22 \t Kota Factory\n",
      "2021-09-10 \t Mahabharat\n",
      "2021-09-04 \t Black Mirror\n",
      "2021-09-02 \t Rick and Morty\n",
      "2021-08-26 \t Lucifer\n",
      "2021-08-26 \t Money Heist\n",
      "2021-08-09 \t Peaky Blinders\n",
      "2021-08-07 \t Marvel's Jessica Jones\n",
      "2021-08-04 \t Marvel's Luke Cage\n",
      "2021-07-29 \t Marvel's The Punisher\n",
      "2021-07-29 \t Grahan\n",
      "2021-07-21 \t Marvel's The Defenders\n",
      "2021-07-21 \t X-Men: The Animated Series\n",
      "2021-07-19 \t Arrow\n",
      "2021-07-19 \t Puncch Beat\n",
      "2021-07-07 \t The Flash\n",
      "2021-06-21 \t Marvel's Daredevil\n",
      "2021-06-21 \t Loki\n",
      "2021-05-03 \t Death Note\n",
      "2021-04-25 \t Dev DD\n",
      "2021-04-21 \t Broken But Beautiful\n",
      "2021-04-21 \t Invincible\n",
      "2021-04-17 \t The Falcon and the Winter Soldier\n",
      "2021-04-08 \t Criminal Justice (IN)\n",
      "2021-03-29 \t Elfen Lied\n",
      "2021-03-28 \t Girls Hostel\n",
      "2021-03-28 \t Breathe\n",
      "2021-03-08 \t Attack on Titan\n",
      "2021-02-19 \t Fullmetal Alchemist: Brotherhood\n",
      "2021-02-13 \t Ozark\n",
      "2021-02-03 \t Panchayat\n",
      "2021-01-28 \t Fullmetal Alchemist\n",
      "2021-01-19 \t WandaVision\n",
      "2020-12-26 \t Vikings\n",
      "2020-12-19 \t Gandii Baat\n",
      "2020-12-16 \t Dosti ka naya maidan\n",
      "2020-12-13 \t Breaking Bad\n",
      "2020-12-07 \t The Mandalorian\n",
      "2020-12-07 \t A Simple Murder\n",
      "2020-12-02 \t Aashram\n",
      "2020-12-01 \t Lost\n",
      "2020-11-26 \t The Umbrella Academy\n",
      "2020-11-26 \t Bad Boy Billionaires: India\n",
      "2020-11-12 \t One-Punch Man\n",
      "2020-10-24 \t Chernobyl\n",
      "2020-10-17 \t Ben 10: Ultimate Alien\n",
      "2020-10-09 \t Bhaukaal\n",
      "2020-10-09 \t Mirzapur\n",
      "2020-10-09 \t The Boys\n"
     ]
    }
   ],
   "source": [
    "for i,j in zip(soup('h3')[3:],soup('h4')[3:]):\n",
    "    print(j.text[:10],\"\\t\",i.text)"
   ]
  },
  {
   "cell_type": "code",
   "execution_count": 7,
   "metadata": {},
   "outputs": [
    {
     "name": "stdout",
     "output_type": "stream",
     "text": [
      "2.1141293048858643\n"
     ]
    }
   ],
   "source": [
    "a = time.time()\n",
    "html = requests.get(\"https://trakt.tv/users/starkprince/history/movies/added\")\n",
    "print(time.time()-a)"
   ]
  },
  {
   "cell_type": "code",
   "execution_count": 8,
   "metadata": {},
   "outputs": [],
   "source": [
    "soup = BeautifulSoup(html.text,\"html.parser\")"
   ]
  },
  {
   "cell_type": "code",
   "execution_count": 9,
   "metadata": {},
   "outputs": [
    {
     "name": "stdout",
     "output_type": "stream",
     "text": [
      "0 followers\n",
      "Patna, Bihar\n",
      "\n",
      "Aravindha Sametha Veera Raghava\n",
      "Sooryavanshi\n",
      "Eternals\n",
      "Sardar Udham\n",
      "Madras Cafe\n",
      "WALL·E\n",
      "Spirited Away\n",
      "Your Name.\n",
      "Schindler's List\n",
      "12 Angry Men\n",
      "Demon Slayer -Kimetsu no Yaiba- The Movie: Mugen Train\n",
      "Those Who Wish Me Dead\n",
      "A Quiet Place Part II\n",
      "A Quiet Place\n",
      "The Tomorrow War\n",
      "Megamind\n",
      "Reminiscence\n",
      "F9\n",
      "Free Guy\n",
      "Dune\n",
      "Dune\n",
      "Dune\n",
      "Sanak\n",
      "Venom: Let There Be Carnage\n",
      "Injustice\n",
      "No Time to Die\n",
      "Shang-Chi and the Legend of the Ten Rings\n",
      "Wrath of Man\n",
      "Shershaah\n",
      "Mimi\n",
      "Troll Hunter\n",
      "Troll Hunter\n",
      "The Suicide Squad\n",
      "Daredevil\n",
      "The Boss Baby: Family Business\n",
      "Ip Man 2\n",
      "The Mummy: Tomb of the Dragon Emperor\n",
      "Frozen Fever\n",
      "Godzilla: King of the Monsters\n",
      "Piranha\n",
      "Resident Evil: Degeneration\n",
      "Hitman's Wife's Bodyguard\n",
      "The City of Your Final Destination\n",
      "Final Destination\n",
      "Final Destination 2\n",
      "Final Destination 3\n",
      "Hercules\n",
      "Wanted\n",
      "Haseen Dillruba\n",
      "The Lego Batman Movie\n",
      "Borat Subsequent Moviefilm\n",
      "Black Widow\n",
      "Fight Club\n",
      "Nobody\n",
      "Up\n",
      "Jagame Thandhiram\n",
      "District 9\n",
      "102 Not Out\n",
      "The Handmaiden\n",
      "The Final Destination\n"
     ]
    }
   ],
   "source": [
    "for i in soup('h3'):\n",
    "    print(i.text)"
   ]
  },
  {
   "cell_type": "code",
   "execution_count": null,
   "metadata": {},
   "outputs": [],
   "source": []
  }
 ],
 "metadata": {
  "kernelspec": {
   "display_name": "Python 3 (ipykernel)",
   "language": "python",
   "name": "python3"
  },
  "language_info": {
   "codemirror_mode": {
    "name": "ipython",
    "version": 3
   },
   "file_extension": ".py",
   "mimetype": "text/x-python",
   "name": "python",
   "nbconvert_exporter": "python",
   "pygments_lexer": "ipython3",
   "version": "3.9.8"
  }
 },
 "nbformat": 4,
 "nbformat_minor": 4
}
