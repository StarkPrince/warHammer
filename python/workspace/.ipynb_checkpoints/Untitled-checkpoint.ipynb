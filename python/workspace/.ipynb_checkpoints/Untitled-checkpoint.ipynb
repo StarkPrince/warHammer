{
 "cells": [
  {
   "cell_type": "code",
   "execution_count": 1,
   "metadata": {},
   "outputs": [],
   "source": [
    "import re\n",
    "import pandas as pd\n",
    "import requests\n",
    "import time\n",
    "\n",
    "file = pd.read_csv('btop50.csv')"
   ]
  },
  {
   "cell_type": "code",
   "execution_count": null,
   "metadata": {},
   "outputs": [
    {
     "name": "stdout",
     "output_type": "stream",
     "text": [
      "Heelein Toot Gayi\n",
      "https://www.youtube.com/watch?v=ms2dXQ0gpDA\n",
      "23.453691720962524\n",
      "She Move It Like\n",
      "https://www.youtube.com/watch?v=Ci0WbaUH3no\n",
      "1.666048526763916\n",
      "Kya Baat Ay\n",
      "https://www.youtube.com/watch?v=G0Hx6uN2AJE\n",
      "2.004556179046631\n",
      "Paagal\n",
      "https://www.youtube.com/watch?v=bdesdebUFLE\n",
      "1.2111680507659912\n",
      "Teri Bhabhi (From \"Coolie No. 1\")\n",
      "https://www.youtube.com/watch?v=oq6av2OmQ1w\n",
      "1.568462610244751\n",
      "Proper Patola\n",
      "https://www.youtube.com/watch?v=YmXJp4RtBCM\n",
      "1.555966854095459\n",
      "Don't Be Shy Again (From \"Bala\")\n",
      "https://www.youtube.com/watch?v=_PHchFX5qiE\n",
      "1.6745054721832275\n",
      "Shayad (From \"Love Aaj Kal\")\n",
      "https://www.youtube.com/watch?v=MJyKN-8UncM\n",
      "1.0446858406066895\n"
     ]
    }
   ],
   "source": [
    "songs = []\n",
    "left = []\n",
    "with open(\"sng.txt\") as s:\n",
    "    for song in list(file['songs'])[:10]:\n",
    "        time_out = time.process_time() + 3\n",
    "        url = \"https://www.youtube.com/results?search_query=\"+\"+\".join(song.split(\" \"))\n",
    "        while time.process_time() <= time_out:\n",
    "            a = time.time()\n",
    "            page = requests.get(url).text\n",
    "            r = re.search(\"videoId.{14}\",page)\n",
    "            songs.append(\"https://www.youtube.com/watch?v=\"+str(r)[-13:-2])\n",
    "            print(song)\n",
    "            print(songs[-1])\n",
    "            print(time.time()-a)\n",
    "            break\n",
    "        else:\n",
    "            left.append(url)"
   ]
  },
  {
   "cell_type": "code",
   "execution_count": null,
   "metadata": {},
   "outputs": [],
   "source": []
  }
 ],
 "metadata": {
  "kernelspec": {
   "display_name": "Python 3",
   "language": "python",
   "name": "python3"
  },
  "language_info": {
   "codemirror_mode": {
    "name": "ipython",
    "version": 3
   },
   "file_extension": ".py",
   "mimetype": "text/x-python",
   "name": "python",
   "nbconvert_exporter": "python",
   "pygments_lexer": "ipython3",
   "version": "3.9.0"
  }
 },
 "nbformat": 4,
 "nbformat_minor": 4
}
